{
 "cells": [
  {
   "cell_type": "code",
   "execution_count": 1,
   "id": "4cef322f-1a3f-45d5-812c-23ccc51802e5",
   "metadata": {},
   "outputs": [],
   "source": [
    "import pandas as pd\n",
    "from os import listdir"
   ]
  },
  {
   "cell_type": "code",
   "execution_count": 2,
   "id": "32bb898c-7a79-4a64-b91d-37eb8c74a103",
   "metadata": {},
   "outputs": [
    {
     "data": {
      "text/plain": [
       "['Customer Master anonymized.xlsx',\n",
       " 'Facility Master anonymized.xlsx',\n",
       " 'Interfacility Orders anonymized.xlsx',\n",
       " 'Parcel File.xlsx',\n",
       " 'Product Master anonymized.xlsx',\n",
       " 'Sales Orders anonymized.xlsx']"
      ]
     },
     "execution_count": 2,
     "metadata": {},
     "output_type": "execute_result"
    }
   ],
   "source": [
    "# get all the file names in the directory\n",
    "xl_files = [i for i in listdir() if \".xlsx\" in i]\n",
    "xl_files.remove('Facility overview - anonymized.xlsx')\n",
    "xl_files"
   ]
  },
  {
   "cell_type": "code",
   "execution_count": 3,
   "id": "eea3d6a1-cf59-4308-899b-6d93c37997ec",
   "metadata": {},
   "outputs": [
    {
     "name": "stdout",
     "output_type": "stream",
     "text": [
      "Customer Master anonymized.xlsx\n",
      "Facility Master anonymized.xlsx\n",
      "Interfacility Orders anonymized.xlsx\n",
      "Parcel File.xlsx\n",
      "Product Master anonymized.xlsx\n",
      "Sales Orders anonymized.xlsx\n"
     ]
    },
    {
     "data": {
      "text/plain": [
       "{'Customer Master anonymized.xlsx': ['Customer Master anonym'],\n",
       " 'Facility Master anonymized.xlsx': ['AFMP'],\n",
       " 'Interfacility Orders anonymized.xlsx': ['AIOP 1',\n",
       "  'AIOP 2',\n",
       "  'AIOP 3',\n",
       "  'AIOP 4',\n",
       "  'AIOP 5',\n",
       "  'AIOP 6',\n",
       "  'AIOP 7'],\n",
       " 'Parcel File.xlsx': ['APAP 1',\n",
       "  'APAP 2',\n",
       "  'APAP 3',\n",
       "  'APAP 4',\n",
       "  'APAP 5',\n",
       "  'APAP 6',\n",
       "  'APAP 7',\n",
       "  'APAP 8',\n",
       "  'APAP 9',\n",
       "  'APAP 10',\n",
       "  'APAP 11',\n",
       "  'APAP 12'],\n",
       " 'Product Master anonymized.xlsx': ['APMP'],\n",
       " 'Sales Orders anonymized.xlsx': ['ACOP 1',\n",
       "  'ACOP 2',\n",
       "  'ACOP 3',\n",
       "  'ACOP 4',\n",
       "  'ACOP 5',\n",
       "  'ACOP 6',\n",
       "  'ACOP 7',\n",
       "  'ACOP 8',\n",
       "  'ACOP 9',\n",
       "  'ACOP 10',\n",
       "  'ACOP 11',\n",
       "  'ACOP 12',\n",
       "  'ACOP 13',\n",
       "  'ACOP 14',\n",
       "  'ACOP 15',\n",
       "  'ACOP 16',\n",
       "  'ACOP 17',\n",
       "  'ACOP 18',\n",
       "  'ACOP 19',\n",
       "  'ACOP 20',\n",
       "  'ACOP 21',\n",
       "  'ACOP 22',\n",
       "  'ACOP 23',\n",
       "  'ACOP 24',\n",
       "  'ACOP 25',\n",
       "  'ACOP 26',\n",
       "  'ACOP 27',\n",
       "  'ACOP 28',\n",
       "  'ACOP 29',\n",
       "  'ACOP 30',\n",
       "  'ACOP 31']}"
      ]
     },
     "execution_count": 3,
     "metadata": {},
     "output_type": "execute_result"
    }
   ],
   "source": [
    "# print all excel files sheet names\n",
    "dfs = {}\n",
    "for xl in xl_files:\n",
    "    print(xl)\n",
    "    sheets = pd.ExcelFile(xl).sheet_names\n",
    "    dfs[xl] = [i for i in sheets if \"Currency\" not in i]\n",
    "dfs"
   ]
  },
  {
   "cell_type": "code",
   "execution_count": 4,
   "id": "85c5ef33-9fa1-4aaf-81cd-82e1191cbdae",
   "metadata": {},
   "outputs": [
    {
     "name": "stderr",
     "output_type": "stream",
     "text": [
      "E:\\anaconda3\\lib\\site-packages\\openpyxl\\worksheet\\header_footer.py:48: UserWarning: Cannot parse header or footer so it will be ignored\n",
      "  warn(\"\"\"Cannot parse header or footer so it will be ignored\"\"\")\n",
      "E:\\anaconda3\\lib\\site-packages\\openpyxl\\worksheet\\header_footer.py:48: UserWarning: Cannot parse header or footer so it will be ignored\n",
      "  warn(\"\"\"Cannot parse header or footer so it will be ignored\"\"\")\n",
      "E:\\anaconda3\\lib\\site-packages\\openpyxl\\worksheet\\header_footer.py:48: UserWarning: Cannot parse header or footer so it will be ignored\n",
      "  warn(\"\"\"Cannot parse header or footer so it will be ignored\"\"\")\n",
      "E:\\anaconda3\\lib\\site-packages\\openpyxl\\worksheet\\header_footer.py:48: UserWarning: Cannot parse header or footer so it will be ignored\n",
      "  warn(\"\"\"Cannot parse header or footer so it will be ignored\"\"\")\n",
      "E:\\anaconda3\\lib\\site-packages\\openpyxl\\worksheet\\header_footer.py:48: UserWarning: Cannot parse header or footer so it will be ignored\n",
      "  warn(\"\"\"Cannot parse header or footer so it will be ignored\"\"\")\n",
      "E:\\anaconda3\\lib\\site-packages\\openpyxl\\worksheet\\header_footer.py:48: UserWarning: Cannot parse header or footer so it will be ignored\n",
      "  warn(\"\"\"Cannot parse header or footer so it will be ignored\"\"\")\n",
      "E:\\anaconda3\\lib\\site-packages\\openpyxl\\worksheet\\header_footer.py:48: UserWarning: Cannot parse header or footer so it will be ignored\n",
      "  warn(\"\"\"Cannot parse header or footer so it will be ignored\"\"\")\n",
      "E:\\anaconda3\\lib\\site-packages\\openpyxl\\worksheet\\header_footer.py:48: UserWarning: Cannot parse header or footer so it will be ignored\n",
      "  warn(\"\"\"Cannot parse header or footer so it will be ignored\"\"\")\n",
      "E:\\anaconda3\\lib\\site-packages\\openpyxl\\worksheet\\header_footer.py:48: UserWarning: Cannot parse header or footer so it will be ignored\n",
      "  warn(\"\"\"Cannot parse header or footer so it will be ignored\"\"\")\n",
      "E:\\anaconda3\\lib\\site-packages\\openpyxl\\worksheet\\header_footer.py:48: UserWarning: Cannot parse header or footer so it will be ignored\n",
      "  warn(\"\"\"Cannot parse header or footer so it will be ignored\"\"\")\n",
      "E:\\anaconda3\\lib\\site-packages\\openpyxl\\worksheet\\header_footer.py:48: UserWarning: Cannot parse header or footer so it will be ignored\n",
      "  warn(\"\"\"Cannot parse header or footer so it will be ignored\"\"\")\n",
      "E:\\anaconda3\\lib\\site-packages\\openpyxl\\worksheet\\header_footer.py:48: UserWarning: Cannot parse header or footer so it will be ignored\n",
      "  warn(\"\"\"Cannot parse header or footer so it will be ignored\"\"\")\n",
      "E:\\anaconda3\\lib\\site-packages\\openpyxl\\worksheet\\header_footer.py:48: UserWarning: Cannot parse header or footer so it will be ignored\n",
      "  warn(\"\"\"Cannot parse header or footer so it will be ignored\"\"\")\n",
      "E:\\anaconda3\\lib\\site-packages\\openpyxl\\worksheet\\header_footer.py:48: UserWarning: Cannot parse header or footer so it will be ignored\n",
      "  warn(\"\"\"Cannot parse header or footer so it will be ignored\"\"\")\n",
      "E:\\anaconda3\\lib\\site-packages\\openpyxl\\worksheet\\header_footer.py:48: UserWarning: Cannot parse header or footer so it will be ignored\n",
      "  warn(\"\"\"Cannot parse header or footer so it will be ignored\"\"\")\n",
      "E:\\anaconda3\\lib\\site-packages\\openpyxl\\worksheet\\header_footer.py:48: UserWarning: Cannot parse header or footer so it will be ignored\n",
      "  warn(\"\"\"Cannot parse header or footer so it will be ignored\"\"\")\n",
      "E:\\anaconda3\\lib\\site-packages\\openpyxl\\worksheet\\header_footer.py:48: UserWarning: Cannot parse header or footer so it will be ignored\n",
      "  warn(\"\"\"Cannot parse header or footer so it will be ignored\"\"\")\n",
      "E:\\anaconda3\\lib\\site-packages\\openpyxl\\worksheet\\header_footer.py:48: UserWarning: Cannot parse header or footer so it will be ignored\n",
      "  warn(\"\"\"Cannot parse header or footer so it will be ignored\"\"\")\n",
      "E:\\anaconda3\\lib\\site-packages\\openpyxl\\worksheet\\header_footer.py:48: UserWarning: Cannot parse header or footer so it will be ignored\n",
      "  warn(\"\"\"Cannot parse header or footer so it will be ignored\"\"\")\n",
      "E:\\anaconda3\\lib\\site-packages\\openpyxl\\worksheet\\header_footer.py:48: UserWarning: Cannot parse header or footer so it will be ignored\n",
      "  warn(\"\"\"Cannot parse header or footer so it will be ignored\"\"\")\n",
      "E:\\anaconda3\\lib\\site-packages\\openpyxl\\worksheet\\header_footer.py:48: UserWarning: Cannot parse header or footer so it will be ignored\n",
      "  warn(\"\"\"Cannot parse header or footer so it will be ignored\"\"\")\n",
      "E:\\anaconda3\\lib\\site-packages\\openpyxl\\worksheet\\header_footer.py:48: UserWarning: Cannot parse header or footer so it will be ignored\n",
      "  warn(\"\"\"Cannot parse header or footer so it will be ignored\"\"\")\n",
      "E:\\anaconda3\\lib\\site-packages\\openpyxl\\worksheet\\header_footer.py:48: UserWarning: Cannot parse header or footer so it will be ignored\n",
      "  warn(\"\"\"Cannot parse header or footer so it will be ignored\"\"\")\n",
      "E:\\anaconda3\\lib\\site-packages\\openpyxl\\worksheet\\header_footer.py:48: UserWarning: Cannot parse header or footer so it will be ignored\n",
      "  warn(\"\"\"Cannot parse header or footer so it will be ignored\"\"\")\n",
      "E:\\anaconda3\\lib\\site-packages\\openpyxl\\worksheet\\header_footer.py:48: UserWarning: Cannot parse header or footer so it will be ignored\n",
      "  warn(\"\"\"Cannot parse header or footer so it will be ignored\"\"\")\n",
      "E:\\anaconda3\\lib\\site-packages\\openpyxl\\worksheet\\header_footer.py:48: UserWarning: Cannot parse header or footer so it will be ignored\n",
      "  warn(\"\"\"Cannot parse header or footer so it will be ignored\"\"\")\n",
      "E:\\anaconda3\\lib\\site-packages\\openpyxl\\worksheet\\header_footer.py:48: UserWarning: Cannot parse header or footer so it will be ignored\n",
      "  warn(\"\"\"Cannot parse header or footer so it will be ignored\"\"\")\n",
      "E:\\anaconda3\\lib\\site-packages\\openpyxl\\worksheet\\header_footer.py:48: UserWarning: Cannot parse header or footer so it will be ignored\n",
      "  warn(\"\"\"Cannot parse header or footer so it will be ignored\"\"\")\n",
      "E:\\anaconda3\\lib\\site-packages\\openpyxl\\worksheet\\header_footer.py:48: UserWarning: Cannot parse header or footer so it will be ignored\n",
      "  warn(\"\"\"Cannot parse header or footer so it will be ignored\"\"\")\n",
      "E:\\anaconda3\\lib\\site-packages\\openpyxl\\worksheet\\header_footer.py:48: UserWarning: Cannot parse header or footer so it will be ignored\n",
      "  warn(\"\"\"Cannot parse header or footer so it will be ignored\"\"\")\n",
      "E:\\anaconda3\\lib\\site-packages\\openpyxl\\worksheet\\header_footer.py:48: UserWarning: Cannot parse header or footer so it will be ignored\n",
      "  warn(\"\"\"Cannot parse header or footer so it will be ignored\"\"\")\n",
      "E:\\anaconda3\\lib\\site-packages\\openpyxl\\worksheet\\header_footer.py:48: UserWarning: Cannot parse header or footer so it will be ignored\n",
      "  warn(\"\"\"Cannot parse header or footer so it will be ignored\"\"\")\n",
      "E:\\anaconda3\\lib\\site-packages\\openpyxl\\worksheet\\header_footer.py:48: UserWarning: Cannot parse header or footer so it will be ignored\n",
      "  warn(\"\"\"Cannot parse header or footer so it will be ignored\"\"\")\n",
      "E:\\anaconda3\\lib\\site-packages\\openpyxl\\worksheet\\header_footer.py:48: UserWarning: Cannot parse header or footer so it will be ignored\n",
      "  warn(\"\"\"Cannot parse header or footer so it will be ignored\"\"\")\n",
      "E:\\anaconda3\\lib\\site-packages\\openpyxl\\worksheet\\header_footer.py:48: UserWarning: Cannot parse header or footer so it will be ignored\n",
      "  warn(\"\"\"Cannot parse header or footer so it will be ignored\"\"\")\n",
      "E:\\anaconda3\\lib\\site-packages\\openpyxl\\worksheet\\header_footer.py:48: UserWarning: Cannot parse header or footer so it will be ignored\n",
      "  warn(\"\"\"Cannot parse header or footer so it will be ignored\"\"\")\n",
      "E:\\anaconda3\\lib\\site-packages\\openpyxl\\worksheet\\header_footer.py:48: UserWarning: Cannot parse header or footer so it will be ignored\n",
      "  warn(\"\"\"Cannot parse header or footer so it will be ignored\"\"\")\n",
      "E:\\anaconda3\\lib\\site-packages\\openpyxl\\worksheet\\header_footer.py:48: UserWarning: Cannot parse header or footer so it will be ignored\n",
      "  warn(\"\"\"Cannot parse header or footer so it will be ignored\"\"\")\n",
      "E:\\anaconda3\\lib\\site-packages\\openpyxl\\worksheet\\header_footer.py:48: UserWarning: Cannot parse header or footer so it will be ignored\n",
      "  warn(\"\"\"Cannot parse header or footer so it will be ignored\"\"\")\n",
      "E:\\anaconda3\\lib\\site-packages\\openpyxl\\worksheet\\header_footer.py:48: UserWarning: Cannot parse header or footer so it will be ignored\n",
      "  warn(\"\"\"Cannot parse header or footer so it will be ignored\"\"\")\n",
      "E:\\anaconda3\\lib\\site-packages\\openpyxl\\worksheet\\header_footer.py:48: UserWarning: Cannot parse header or footer so it will be ignored\n",
      "  warn(\"\"\"Cannot parse header or footer so it will be ignored\"\"\")\n",
      "E:\\anaconda3\\lib\\site-packages\\openpyxl\\worksheet\\header_footer.py:48: UserWarning: Cannot parse header or footer so it will be ignored\n",
      "  warn(\"\"\"Cannot parse header or footer so it will be ignored\"\"\")\n",
      "E:\\anaconda3\\lib\\site-packages\\openpyxl\\worksheet\\header_footer.py:48: UserWarning: Cannot parse header or footer so it will be ignored\n",
      "  warn(\"\"\"Cannot parse header or footer so it will be ignored\"\"\")\n",
      "E:\\anaconda3\\lib\\site-packages\\openpyxl\\worksheet\\header_footer.py:48: UserWarning: Cannot parse header or footer so it will be ignored\n",
      "  warn(\"\"\"Cannot parse header or footer so it will be ignored\"\"\")\n",
      "E:\\anaconda3\\lib\\site-packages\\openpyxl\\worksheet\\header_footer.py:48: UserWarning: Cannot parse header or footer so it will be ignored\n",
      "  warn(\"\"\"Cannot parse header or footer so it will be ignored\"\"\")\n",
      "E:\\anaconda3\\lib\\site-packages\\openpyxl\\worksheet\\header_footer.py:48: UserWarning: Cannot parse header or footer so it will be ignored\n",
      "  warn(\"\"\"Cannot parse header or footer so it will be ignored\"\"\")\n",
      "E:\\anaconda3\\lib\\site-packages\\openpyxl\\worksheet\\header_footer.py:48: UserWarning: Cannot parse header or footer so it will be ignored\n",
      "  warn(\"\"\"Cannot parse header or footer so it will be ignored\"\"\")\n",
      "E:\\anaconda3\\lib\\site-packages\\openpyxl\\worksheet\\header_footer.py:48: UserWarning: Cannot parse header or footer so it will be ignored\n",
      "  warn(\"\"\"Cannot parse header or footer so it will be ignored\"\"\")\n",
      "E:\\anaconda3\\lib\\site-packages\\openpyxl\\worksheet\\header_footer.py:48: UserWarning: Cannot parse header or footer so it will be ignored\n",
      "  warn(\"\"\"Cannot parse header or footer so it will be ignored\"\"\")\n",
      "E:\\anaconda3\\lib\\site-packages\\openpyxl\\worksheet\\header_footer.py:48: UserWarning: Cannot parse header or footer so it will be ignored\n",
      "  warn(\"\"\"Cannot parse header or footer so it will be ignored\"\"\")\n",
      "E:\\anaconda3\\lib\\site-packages\\openpyxl\\worksheet\\header_footer.py:48: UserWarning: Cannot parse header or footer so it will be ignored\n",
      "  warn(\"\"\"Cannot parse header or footer so it will be ignored\"\"\")\n",
      "E:\\anaconda3\\lib\\site-packages\\openpyxl\\worksheet\\header_footer.py:48: UserWarning: Cannot parse header or footer so it will be ignored\n",
      "  warn(\"\"\"Cannot parse header or footer so it will be ignored\"\"\")\n",
      "E:\\anaconda3\\lib\\site-packages\\openpyxl\\worksheet\\header_footer.py:48: UserWarning: Cannot parse header or footer so it will be ignored\n",
      "  warn(\"\"\"Cannot parse header or footer so it will be ignored\"\"\")\n"
     ]
    }
   ],
   "source": [
    "tables = []\n",
    "\n",
    "for excel_file_path in dfs:\n",
    "    # Read all sheets from the Excel file into a dictionary of DataFrames\n",
    "    all_sheets = pd.read_excel(excel_file_path, sheet_name=dfs[excel_file_path])\n",
    "\n",
    "    # Concatenate all DataFrames into one\n",
    "    combined_dataframe = pd.concat(all_sheets.values(), ignore_index=True)\n",
    "\n",
    "    tables.append(combined_dataframe)"
   ]
  },
  {
   "cell_type": "code",
   "execution_count": 5,
   "id": "12483742-8f87-4e53-b2d0-0f5999ad20e7",
   "metadata": {},
   "outputs": [
    {
     "data": {
      "text/plain": [
       "6"
      ]
     },
     "execution_count": 5,
     "metadata": {},
     "output_type": "execute_result"
    }
   ],
   "source": [
    "len(tables)"
   ]
  },
  {
   "cell_type": "code",
   "execution_count": 6,
   "id": "f10f9933-adaa-477f-b371-224c8cad8788",
   "metadata": {},
   "outputs": [
    {
     "data": {
      "text/plain": [
       "dict_keys(['Customer Master anonymized.xlsx', 'Facility Master anonymized.xlsx', 'Interfacility Orders anonymized.xlsx', 'Parcel File.xlsx', 'Product Master anonymized.xlsx', 'Sales Orders anonymized.xlsx'])"
      ]
     },
     "execution_count": 6,
     "metadata": {},
     "output_type": "execute_result"
    }
   ],
   "source": [
    "dfs.keys()"
   ]
  },
  {
   "cell_type": "code",
   "execution_count": 7,
   "id": "d5e07535-5d70-46b1-8461-bb7c8cc254f6",
   "metadata": {},
   "outputs": [],
   "source": [
    "table_dict = dict(zip(list(dfs.keys()), tables))"
   ]
  },
  {
   "cell_type": "code",
   "execution_count": 8,
   "id": "6c3542ec-b0eb-47d8-aa98-805e61392251",
   "metadata": {},
   "outputs": [],
   "source": [
    "file = open(\"Interfacility Orders anonymized.xlsx\", \"r\")  # Open the file\n",
    "# Do operations on the file\n",
    "file.close()  # Close the file"
   ]
  },
  {
   "cell_type": "code",
   "execution_count": 9,
   "id": "c43b661d-a06e-453b-a0fa-65a08825aa51",
   "metadata": {},
   "outputs": [],
   "source": [
    "for t in table_dict:\n",
    "    table_dict[t].to_csv(f\"Tables Joined/{t[:-5]}.csv\",index=False)"
   ]
  },
  {
   "cell_type": "code",
   "execution_count": 10,
   "id": "1f5ba48b-1ddb-4b33-90d4-03fb239652ac",
   "metadata": {},
   "outputs": [],
   "source": [
    "def get_column_category_values(table,column):\n",
    "    print(table[column].value_counts())\n",
    "    print(\"LENGTH:\",len(table[column].unique()))"
   ]
  },
  {
   "cell_type": "markdown",
   "id": "3e6666ee-a5a6-4924-a445-a60b4a2ac841",
   "metadata": {
    "tags": []
   },
   "source": [
    "# Customer Master Anonymized"
   ]
  },
  {
   "cell_type": "code",
   "execution_count": 11,
   "id": "dcc61edf-8d5c-408e-8463-42f47d677d3c",
   "metadata": {},
   "outputs": [],
   "source": [
    "customers = tables[0]"
   ]
  },
  {
   "cell_type": "code",
   "execution_count": 12,
   "id": "40bad319-ce4f-4b8b-a517-e4aac1dcd0a0",
   "metadata": {},
   "outputs": [
    {
     "data": {
      "text/html": [
       "<div>\n",
       "<style scoped>\n",
       "    .dataframe tbody tr th:only-of-type {\n",
       "        vertical-align: middle;\n",
       "    }\n",
       "\n",
       "    .dataframe tbody tr th {\n",
       "        vertical-align: top;\n",
       "    }\n",
       "\n",
       "    .dataframe thead th {\n",
       "        text-align: right;\n",
       "    }\n",
       "</style>\n",
       "<table border=\"1\" class=\"dataframe\">\n",
       "  <thead>\n",
       "    <tr style=\"text-align: right;\">\n",
       "      <th></th>\n",
       "      <th>DCMU</th>\n",
       "      <th>DCSTKY</th>\n",
       "      <th>DCNAME</th>\n",
       "      <th>DCCITY</th>\n",
       "      <th>DCPC</th>\n",
       "      <th>DCCTRY</th>\n",
       "      <th>DCCTYP new</th>\n",
       "      <th>DCMSEG</th>\n",
       "      <th>DCCRDT</th>\n",
       "    </tr>\n",
       "  </thead>\n",
       "  <tbody>\n",
       "    <tr>\n",
       "      <th>0</th>\n",
       "      <td>30</td>\n",
       "      <td>DCACU1</td>\n",
       "      <td>Client A COMPANY</td>\n",
       "      <td>FAIRHAVEN</td>\n",
       "      <td>MA 02719</td>\n",
       "      <td>US</td>\n",
       "      <td>CROSS MARKET CUSTOMER</td>\n",
       "      <td>CROSSMARKET</td>\n",
       "      <td>No credit code assigned</td>\n",
       "    </tr>\n",
       "    <tr>\n",
       "      <th>1</th>\n",
       "      <td>30</td>\n",
       "      <td>DRP33</td>\n",
       "      <td>Client A FRANCE SA</td>\n",
       "      <td>MONTATAIRE CEDEX</td>\n",
       "      <td>60765</td>\n",
       "      <td>FR</td>\n",
       "      <td>CROSS MARKET CUSTOMER</td>\n",
       "      <td>CROSSMARKET</td>\n",
       "      <td>No credit code assigned</td>\n",
       "    </tr>\n",
       "    <tr>\n",
       "      <th>2</th>\n",
       "      <td>30</td>\n",
       "      <td>DRP43</td>\n",
       "      <td>Client A AUSTRIA GMBH</td>\n",
       "      <td>PIESENDORF</td>\n",
       "      <td>5721</td>\n",
       "      <td>AT</td>\n",
       "      <td>CROSS MARKET CUSTOMER</td>\n",
       "      <td>CROSSMARKET</td>\n",
       "      <td>No credit code assigned</td>\n",
       "    </tr>\n",
       "    <tr>\n",
       "      <th>3</th>\n",
       "      <td>30</td>\n",
       "      <td>DRP44</td>\n",
       "      <td>Client A LTD</td>\n",
       "      <td>CAMBS</td>\n",
       "      <td>PE27 3LU</td>\n",
       "      <td>GB</td>\n",
       "      <td>CROSS MARKET CUSTOMER</td>\n",
       "      <td>CROSSMARKET</td>\n",
       "      <td>No credit code assigned</td>\n",
       "    </tr>\n",
       "    <tr>\n",
       "      <th>4</th>\n",
       "      <td>30</td>\n",
       "      <td>DRP45</td>\n",
       "      <td>Client A DENMARK APS</td>\n",
       "      <td>ARHUS N</td>\n",
       "      <td>8200</td>\n",
       "      <td>DK</td>\n",
       "      <td>CROSS MARKET CUSTOMER</td>\n",
       "      <td>CROSSMARKET</td>\n",
       "      <td>No credit code assigned</td>\n",
       "    </tr>\n",
       "  </tbody>\n",
       "</table>\n",
       "</div>"
      ],
      "text/plain": [
       "   DCMU  DCSTKY                 DCNAME            DCCITY      DCPC DCCTRY  \\\n",
       "0    30  DCACU1       Client A COMPANY         FAIRHAVEN  MA 02719     US   \n",
       "1    30   DRP33     Client A FRANCE SA  MONTATAIRE CEDEX     60765     FR   \n",
       "2    30   DRP43  Client A AUSTRIA GMBH        PIESENDORF      5721     AT   \n",
       "3    30   DRP44           Client A LTD             CAMBS  PE27 3LU     GB   \n",
       "4    30   DRP45   Client A DENMARK APS           ARHUS N      8200     DK   \n",
       "\n",
       "              DCCTYP new       DCMSEG                   DCCRDT  \n",
       "0  CROSS MARKET CUSTOMER  CROSSMARKET  No credit code assigned  \n",
       "1  CROSS MARKET CUSTOMER  CROSSMARKET  No credit code assigned  \n",
       "2  CROSS MARKET CUSTOMER  CROSSMARKET  No credit code assigned  \n",
       "3  CROSS MARKET CUSTOMER  CROSSMARKET  No credit code assigned  \n",
       "4  CROSS MARKET CUSTOMER  CROSSMARKET  No credit code assigned  "
      ]
     },
     "execution_count": 12,
     "metadata": {},
     "output_type": "execute_result"
    }
   ],
   "source": [
    "customers.head()"
   ]
  },
  {
   "cell_type": "code",
   "execution_count": 13,
   "id": "5fdfdf16-0856-418b-af70-3de26c77f0d2",
   "metadata": {},
   "outputs": [
    {
     "name": "stdout",
     "output_type": "stream",
     "text": [
      "44    6649\n",
      "49    4560\n",
      "33    1957\n",
      "46    1023\n",
      "35     983\n",
      "34     967\n",
      "43     951\n",
      "45     882\n",
      "39     723\n",
      "30     616\n",
      "31     510\n",
      "58     403\n",
      "47     312\n",
      "Name: DCMU, dtype: int64\n",
      "LENGTH: 13\n"
     ]
    }
   ],
   "source": [
    "get_column_category_values(customers,\"DCMU\")"
   ]
  },
  {
   "cell_type": "code",
   "execution_count": 14,
   "id": "e71d263e-6dcc-4949-aa76-83d44f0d820a",
   "metadata": {},
   "outputs": [
    {
     "name": "stdout",
     "output_type": "stream",
     "text": [
      "MU49      9\n",
      "MU44      9\n",
      "MU45      8\n",
      "MU30      8\n",
      "MU31      8\n",
      "         ..\n",
      "02016F    1\n",
      "02016E    1\n",
      "02016D    1\n",
      "02016C    1\n",
      "999862    1\n",
      "Name: DCSTKY, Length: 19757, dtype: int64\n",
      "LENGTH: 19758\n"
     ]
    }
   ],
   "source": [
    "# CUSTOMER KEY\n",
    "get_column_category_values(customers,\"DCSTKY\")"
   ]
  },
  {
   "cell_type": "code",
   "execution_count": 15,
   "id": "793c0dc5-43e4-40de-bb3f-e997bb9593e6",
   "metadata": {},
   "outputs": [
    {
     "name": "stdout",
     "output_type": "stream",
     "text": [
      "XXXXXXXXXXXXXXXXXXXXXXXXXXXXXX    606\n",
      "$$ ACCOUNT CLOSED $$               59\n",
      "XYKARSTADT WARENHAUS GMBH          48\n",
      "$$EDINBURGH WOOLLEN MILL$$BAD      39\n",
      "A                                  23\n",
      "                                 ... \n",
      "$$ MR C BARRETT                     1\n",
      "$$MR R DONE$$                       1\n",
      "$$GARETH DICK$$                     1\n",
      "$$ MR S ROOKE                       1\n",
      "Client A AB / SEED SAMPLES          1\n",
      "Name: DCNAME, Length: 17586, dtype: int64\n",
      "LENGTH: 17587\n"
     ]
    }
   ],
   "source": [
    "# CUSTOMER NAME\n",
    "get_column_category_values(customers,\"DCNAME\")"
   ]
  },
  {
   "cell_type": "code",
   "execution_count": 16,
   "id": "1bc62912-dd32-4118-b09c-303730bc5b15",
   "metadata": {},
   "outputs": [
    {
     "name": "stdout",
     "output_type": "stream",
     "text": [
      ".                 1210\n",
      "SURREY             252\n",
      "IDSTEIN            221\n",
      "KENT               191\n",
      "CAMBRIDGESHIRE     178\n",
      "                  ... \n",
      "MOLD                 1\n",
      "WARWKS.              1\n",
      "ILLIES               1\n",
      "UPMINSTER            1\n",
      "EGTVED               1\n",
      "Name: DCCITY, Length: 6012, dtype: int64\n",
      "LENGTH: 6013\n"
     ]
    }
   ],
   "source": [
    "# CITY \n",
    "get_column_category_values(customers,\"DCCITY\")"
   ]
  },
  {
   "cell_type": "code",
   "execution_count": 17,
   "id": "7d537479-afd8-4a89-a5d0-505e026029fe",
   "metadata": {},
   "outputs": [
    {
     "name": "stdout",
     "output_type": "stream",
     "text": [
      "PE27 3LU    337\n",
      ".           333\n",
      "65510       222\n",
      "21376        78\n",
      "5704 BS      65\n",
      "           ... \n",
      "NR20 3JZ      1\n",
      "IG6 3JA       1\n",
      "SL0 0BG       1\n",
      "HA6 1HN       1\n",
      "TN33 0LH      1\n",
      "Name: DCPC, Length: 9285, dtype: int64\n",
      "LENGTH: 9286\n"
     ]
    }
   ],
   "source": [
    "# CUSTOMER POSTAL CODE DCPC\n",
    "get_column_category_values(customers,\"DCPC\")"
   ]
  },
  {
   "cell_type": "code",
   "execution_count": 18,
   "id": "d1565a1b-9510-4df6-be5c-b16420f35afa",
   "metadata": {},
   "outputs": [
    {
     "name": "stdout",
     "output_type": "stream",
     "text": [
      "GB    6505\n",
      "DE    3483\n",
      "FR    1570\n",
      "NL    1098\n",
      "SE    1019\n",
      "IE     987\n",
      "ES     923\n",
      "DK     888\n",
      "AT     884\n",
      "IT     785\n",
      "FI     412\n",
      "CZ     334\n",
      "NO     318\n",
      "PT     193\n",
      "BE     170\n",
      "SK      67\n",
      "IC      54\n",
      "HU      49\n",
      "SI      49\n",
      "PL      39\n",
      "LU      17\n",
      "HR      13\n",
      "RO      13\n",
      "BG      11\n",
      "AU       9\n",
      "AD       6\n",
      "SA       5\n",
      "US       3\n",
      "LT       3\n",
      "EE       2\n",
      "AX       2\n",
      "MT       2\n",
      "CY       2\n",
      "KR       2\n",
      "EL       1\n",
      "NZ       1\n",
      "HK       1\n",
      "SC       1\n",
      "LV       1\n",
      "GR       1\n",
      "SM       1\n",
      "SG       1\n",
      "Name: DCCTRY, dtype: int64\n",
      "LENGTH: 43\n"
     ]
    }
   ],
   "source": [
    "# CUSTOMER COUNTRY DCCTRY\n",
    "get_column_category_values(customers,\"DCCTRY\")"
   ]
  },
  {
   "cell_type": "code",
   "execution_count": 19,
   "id": "5b4d1990-7c2b-4c12-8059-f961e8f7fd71",
   "metadata": {},
   "outputs": [
    {
     "name": "stdout",
     "output_type": "stream",
     "text": [
      "SHOP TYPE 3              10185\n",
      "SHOP TYPE 1               2568\n",
      "PERSONALIZED MATERIAL     1080\n",
      "SPORT ALLOWANCE            658\n",
      "TRACK                      554\n",
      "DEPARTMENT STORE           468\n",
      "PROMOTION                  445\n",
      "SHOP TYPE 2                438\n",
      "DISTRIBUTOR / EXPORT       429\n",
      "MISC                       402\n",
      "INTERCOMPANY               361\n",
      "MAIL ORDER                 356\n",
      "OWN USE                    179\n",
      "INTERNET ACCOUNT           165\n",
      "CROSS MARKET CUSTOMER      137\n",
      "DIRECT TO CONSUMER          30\n",
      "PLAYER PROMOTION            25\n",
      "Name: DCCTYP new, dtype: int64\n",
      "LENGTH: 18\n"
     ]
    }
   ],
   "source": [
    "# CUSTOEMR TYPE DCCTYP new\t\n",
    "get_column_category_values(customers,\"DCCTYP new\")"
   ]
  },
  {
   "cell_type": "code",
   "execution_count": 20,
   "id": "450aac8b-a984-4978-9d5c-aa5ac94f028a",
   "metadata": {},
   "outputs": [
    {
     "name": "stdout",
     "output_type": "stream",
     "text": [
      "HOME                  15814\n",
      "PROMOTIONS             1709\n",
      "EXPORT                  429\n",
      "INTERCOMPANY            361\n",
      "CROSSMARKET             137\n",
      "DIRECT TO CONSUMER       30\n",
      "Name: DCMSEG, dtype: int64\n",
      "LENGTH: 7\n"
     ]
    }
   ],
   "source": [
    "# CUSTOMER SEGMENT DCMSEG\n",
    "get_column_category_values(customers,\"DCMSEG\")"
   ]
  },
  {
   "cell_type": "code",
   "execution_count": 21,
   "id": "037027c2-9787-4415-990c-21b76ea819f8",
   "metadata": {},
   "outputs": [
    {
     "name": "stdout",
     "output_type": "stream",
     "text": [
      "Customer on stop           6176\n",
      "Hold every order           5626\n",
      "Hold if 30 days past       4337\n",
      "Hold if 15 days past       2918\n",
      "No credit code assigned    1340\n",
      "Hold if 60 days past         93\n",
      "Hold if 45 days past         21\n",
      "Hold if 75 days past         16\n",
      "Hold if 90 days past          4\n",
      "Hold if 135 days past         3\n",
      "Hold if 120 days past         2\n",
      "Name: DCCRDT, dtype: int64\n",
      "LENGTH: 11\n"
     ]
    }
   ],
   "source": [
    "# CUSTOMER CREDIT DCCRDT\n",
    "get_column_category_values(customers,\"DCCRDT\")"
   ]
  },
  {
   "cell_type": "code",
   "execution_count": 22,
   "id": "f39c56a7-de76-4fc8-b347-cbb98849b997",
   "metadata": {},
   "outputs": [
    {
     "data": {
      "text/plain": [
       "DCMU             0\n",
       "DCSTKY           1\n",
       "DCNAME           1\n",
       "DCCITY           6\n",
       "DCPC          1437\n",
       "DCCTRY         611\n",
       "DCCTYP new    2056\n",
       "DCMSEG        2056\n",
       "DCCRDT           0\n",
       "dtype: int64"
      ]
     },
     "execution_count": 22,
     "metadata": {},
     "output_type": "execute_result"
    }
   ],
   "source": [
    "# EMPTY VALUES (COUNTED) FOR EACH COLUMN\n",
    "customers.isna().sum()"
   ]
  },
  {
   "cell_type": "code",
   "execution_count": 23,
   "id": "b0a8155b-5da7-46ad-b8f5-952c66786cac",
   "metadata": {},
   "outputs": [
    {
     "data": {
      "text/plain": [
       "DCMU           0.000000\n",
       "DCSTKY         0.004869\n",
       "DCNAME         0.004869\n",
       "DCCITY         0.029217\n",
       "DCPC           6.997468\n",
       "DCCTRY         2.975263\n",
       "DCCTYP new    10.011687\n",
       "DCMSEG        10.011687\n",
       "DCCRDT         0.000000\n",
       "dtype: float64"
      ]
     },
     "execution_count": 23,
     "metadata": {},
     "output_type": "execute_result"
    }
   ],
   "source": [
    "# EMPTY VALUES (%) FOR EACH COLUMN\n",
    "customers.isna().mean()*100"
   ]
  },
  {
   "cell_type": "markdown",
   "id": "b25a6e30-a7ca-477f-bd8b-ed93668fd328",
   "metadata": {
    "jp-MarkdownHeadingCollapsed": true,
    "tags": []
   },
   "source": [
    "# Facility Master Anonymized"
   ]
  },
  {
   "cell_type": "code",
   "execution_count": 24,
   "id": "7835ff57-3d4a-46e6-bfa5-1539e4cf0991",
   "metadata": {},
   "outputs": [],
   "source": [
    "facilities = tables[1]"
   ]
  },
  {
   "cell_type": "code",
   "execution_count": 25,
   "id": "29d4a286-e1f7-4cef-aea5-1ec5e2974c50",
   "metadata": {},
   "outputs": [
    {
     "data": {
      "text/html": [
       "<div>\n",
       "<style scoped>\n",
       "    .dataframe tbody tr th:only-of-type {\n",
       "        vertical-align: middle;\n",
       "    }\n",
       "\n",
       "    .dataframe tbody tr th {\n",
       "        vertical-align: top;\n",
       "    }\n",
       "\n",
       "    .dataframe thead th {\n",
       "        text-align: right;\n",
       "    }\n",
       "</style>\n",
       "<table border=\"1\" class=\"dataframe\">\n",
       "  <thead>\n",
       "    <tr style=\"text-align: right;\">\n",
       "      <th></th>\n",
       "      <th>DFMU</th>\n",
       "      <th>DFFACI</th>\n",
       "      <th>DFNAME</th>\n",
       "      <th>DFTYPE</th>\n",
       "      <th>DFCITY</th>\n",
       "      <th>DFPC</th>\n",
       "      <th>DFCTRY</th>\n",
       "      <th>Receipt Warehouse</th>\n",
       "    </tr>\n",
       "  </thead>\n",
       "  <tbody>\n",
       "    <tr>\n",
       "      <th>0</th>\n",
       "      <td>31</td>\n",
       "      <td>ASI01</td>\n",
       "      <td>supplier1</td>\n",
       "      <td>Supplier</td>\n",
       "      <td>BRILHANTISMO V19</td>\n",
       "      <td>MACAU</td>\n",
       "      <td>NaN</td>\n",
       "      <td>NaN</td>\n",
       "    </tr>\n",
       "    <tr>\n",
       "      <th>1</th>\n",
       "      <td>31</td>\n",
       "      <td>BALLS</td>\n",
       "      <td>supplier2</td>\n",
       "      <td>Supplier</td>\n",
       "      <td>XXX</td>\n",
       "      <td>XXX</td>\n",
       "      <td>NaN</td>\n",
       "      <td>NaN</td>\n",
       "    </tr>\n",
       "    <tr>\n",
       "      <th>2</th>\n",
       "      <td>31</td>\n",
       "      <td>CACC</td>\n",
       "      <td>supplier3</td>\n",
       "      <td>Supplier</td>\n",
       "      <td>XXX</td>\n",
       "      <td>XXX</td>\n",
       "      <td>NaN</td>\n",
       "      <td>NaN</td>\n",
       "    </tr>\n",
       "    <tr>\n",
       "      <th>3</th>\n",
       "      <td>31</td>\n",
       "      <td>CBAG</td>\n",
       "      <td>supplier4</td>\n",
       "      <td>Supplier</td>\n",
       "      <td>XXX</td>\n",
       "      <td>XXX</td>\n",
       "      <td>NaN</td>\n",
       "      <td>NaN</td>\n",
       "    </tr>\n",
       "    <tr>\n",
       "      <th>4</th>\n",
       "      <td>31</td>\n",
       "      <td>CCLUB</td>\n",
       "      <td>supplier5</td>\n",
       "      <td>Supplier</td>\n",
       "      <td>XXX</td>\n",
       "      <td>XXX</td>\n",
       "      <td>NaN</td>\n",
       "      <td>NaN</td>\n",
       "    </tr>\n",
       "  </tbody>\n",
       "</table>\n",
       "</div>"
      ],
      "text/plain": [
       "   DFMU DFFACI     DFNAME    DFTYPE            DFCITY   DFPC DFCTRY  \\\n",
       "0    31  ASI01  supplier1  Supplier  BRILHANTISMO V19  MACAU    NaN   \n",
       "1    31  BALLS  supplier2  Supplier               XXX    XXX    NaN   \n",
       "2    31   CACC  supplier3  Supplier               XXX    XXX    NaN   \n",
       "3    31   CBAG  supplier4  Supplier               XXX    XXX    NaN   \n",
       "4    31  CCLUB  supplier5  Supplier               XXX    XXX    NaN   \n",
       "\n",
       "  Receipt Warehouse  \n",
       "0               NaN  \n",
       "1               NaN  \n",
       "2               NaN  \n",
       "3               NaN  \n",
       "4               NaN  "
      ]
     },
     "execution_count": 25,
     "metadata": {},
     "output_type": "execute_result"
    }
   ],
   "source": [
    "facilities.head()"
   ]
  },
  {
   "cell_type": "code",
   "execution_count": 26,
   "id": "d5bc2437-37d8-4ffc-a06b-62a5827db8aa",
   "metadata": {},
   "outputs": [
    {
     "name": "stdout",
     "output_type": "stream",
     "text": [
      "44    3417\n",
      "31     473\n",
      "Name: DFMU, dtype: int64\n",
      "LENGTH: 2\n"
     ]
    }
   ],
   "source": [
    "# FACILITY ?\n",
    "get_column_category_values(facilities, \"DFMU\")"
   ]
  },
  {
   "cell_type": "code",
   "execution_count": 27,
   "id": "21bb144e-4f0a-4ba4-a750-87e5b9cf6d38",
   "metadata": {},
   "outputs": [
    {
     "name": "stdout",
     "output_type": "stream",
     "text": [
      "ASI01     2\n",
      "FAY01     2\n",
      "GLOVES    2\n",
      "JYL01     2\n",
      "MOR01     2\n",
      "         ..\n",
      "DYN02     1\n",
      "EAC01     1\n",
      "EAG01     1\n",
      "EAG02     1\n",
      "80        1\n",
      "Name: DFFACI, Length: 3861, dtype: int64\n",
      "LENGTH: 3861\n"
     ]
    }
   ],
   "source": [
    "# FACILITY CODE?\n",
    "get_column_category_values(facilities, \"DFFACI\")"
   ]
  },
  {
   "cell_type": "code",
   "execution_count": 28,
   "id": "409deea6-ed17-4ece-a016-2955fb6cead9",
   "metadata": {},
   "outputs": [
    {
     "name": "stdout",
     "output_type": "stream",
     "text": [
      "Warehouse GB                     3\n",
      "CARSTOCK WAREHOUSE               2\n",
      "supplier2596                     1\n",
      "supplier2584                     1\n",
      "supplier2585                     1\n",
      "                                ..\n",
      "supplier1301                     1\n",
      "supplier1302                     1\n",
      "supplier1303                     1\n",
      "supplier1304                     1\n",
      "Eurpean League Warehouse GB 2    1\n",
      "Name: DFNAME, Length: 3887, dtype: int64\n",
      "LENGTH: 3887\n"
     ]
    }
   ],
   "source": [
    "# FACILITY NAME\n",
    "get_column_category_values(facilities, \"DFNAME\")"
   ]
  },
  {
   "cell_type": "code",
   "execution_count": 29,
   "id": "7c6dfef8-2af0-4372-a9c9-5de933464b95",
   "metadata": {},
   "outputs": [
    {
     "name": "stdout",
     "output_type": "stream",
     "text": [
      "Supplier     3820\n",
      "Warehouse      70\n",
      "Name: DFTYPE, dtype: int64\n",
      "LENGTH: 2\n"
     ]
    }
   ],
   "source": [
    "# FACILITY TYPE\n",
    "get_column_category_values(facilities, \"DFTYPE\")"
   ]
  },
  {
   "cell_type": "code",
   "execution_count": 30,
   "id": "511dd672-6ac5-4a67-9b91-c5bbab263f39",
   "metadata": {},
   "outputs": [
    {
     "name": "stdout",
     "output_type": "stream",
     "text": [
      ".                  603\n",
      "CAMBS              138\n",
      "LONDON              96\n",
      "CAMBRIDGE           88\n",
      "HUNTINGDON          52\n",
      "                  ... \n",
      "BUCHUN CITY          1\n",
      "PAIGNTON, DEVON      1\n",
      "FAREHAM,             1\n",
      "GO DAU DISTRICT      1\n",
      "C1                   1\n",
      "Name: DFCITY, Length: 1347, dtype: int64\n",
      "LENGTH: 1348\n"
     ]
    }
   ],
   "source": [
    "# FACILITY CITY\n",
    "get_column_category_values(facilities, \"DFCITY\")"
   ]
  },
  {
   "cell_type": "code",
   "execution_count": 31,
   "id": "ed6d06cf-9b02-467f-8a6a-b7c07e61fa55",
   "metadata": {},
   "outputs": [
    {
     "name": "stdout",
     "output_type": "stream",
     "text": [
      ".             787\n",
      "X              55\n",
      "PE27 3LU       29\n",
      "..             28\n",
      "HONG KONG      19\n",
      "             ... \n",
      "G2 1DY          1\n",
      "60008-4242      1\n",
      "CA 94804        1\n",
      "MK11 3JB        1\n",
      "NN1 8RA         1\n",
      "Name: DFPC, Length: 2500, dtype: int64\n",
      "LENGTH: 2501\n"
     ]
    }
   ],
   "source": [
    "# FACILITY POSTAL CODE\n",
    "get_column_category_values(facilities, \"DFPC\")"
   ]
  },
  {
   "cell_type": "code",
   "execution_count": 32,
   "id": "8c1d1fce-ca82-47b0-b566-25cd9eda1007",
   "metadata": {},
   "outputs": [
    {
     "name": "stdout",
     "output_type": "stream",
     "text": [
      "GB    1320\n",
      "NL     120\n",
      "US      49\n",
      "TW      18\n",
      "KR       7\n",
      "HK       5\n",
      "SE       5\n",
      "DE       5\n",
      "CN       4\n",
      "FR       4\n",
      "JP       3\n",
      "ID       2\n",
      "IE       2\n",
      "TH       2\n",
      "DK       2\n",
      "AT       2\n",
      "ZA       1\n",
      "MY       1\n",
      "IT       1\n",
      "Name: DFCTRY, dtype: int64\n",
      "LENGTH: 20\n"
     ]
    }
   ],
   "source": [
    "# FACILITY COUNTRY\n",
    "get_column_category_values(facilities, \"DFCTRY\")"
   ]
  },
  {
   "cell_type": "code",
   "execution_count": 33,
   "id": "1b6193f1-c386-4f84-a5cd-b8ca5f6f76bd",
   "metadata": {},
   "outputs": [
    {
     "name": "stdout",
     "output_type": "stream",
     "text": [
      "Warehouse GB    66\n",
      "Warehouse NL     4\n",
      "Name: Receipt Warehouse, dtype: int64\n",
      "LENGTH: 3\n"
     ]
    }
   ],
   "source": [
    "# FACILITY RECEIPT WAREHOUSE\n",
    "get_column_category_values(facilities, \"Receipt Warehouse\")"
   ]
  },
  {
   "cell_type": "code",
   "execution_count": 34,
   "id": "d22957e1-f79c-4824-8104-0988c1d7fea9",
   "metadata": {},
   "outputs": [
    {
     "data": {
      "text/plain": [
       "DFMU                    0\n",
       "DFFACI                  0\n",
       "DFNAME                  0\n",
       "DFTYPE                  0\n",
       "DFCITY                 49\n",
       "DFPC                   48\n",
       "DFCTRY               2337\n",
       "Receipt Warehouse    3820\n",
       "dtype: int64"
      ]
     },
     "execution_count": 34,
     "metadata": {},
     "output_type": "execute_result"
    }
   ],
   "source": [
    "facilities.isna().sum()"
   ]
  },
  {
   "cell_type": "markdown",
   "id": "52be223a-d33a-4da6-8fa4-2c1e0e2e2fea",
   "metadata": {},
   "source": [
    "The column Receipt warehouse is only filled in when the facility type is warehouse (70 times)"
   ]
  },
  {
   "cell_type": "code",
   "execution_count": 35,
   "id": "173d512c-771e-4b59-9229-efd3c8f547b3",
   "metadata": {},
   "outputs": [
    {
     "data": {
      "text/plain": [
       "DFMU                  0.000000\n",
       "DFFACI                0.000000\n",
       "DFNAME                0.000000\n",
       "DFTYPE                0.000000\n",
       "DFCITY                1.259640\n",
       "DFPC                  1.233933\n",
       "DFCTRY               60.077121\n",
       "Receipt Warehouse    98.200514\n",
       "dtype: float64"
      ]
     },
     "execution_count": 35,
     "metadata": {},
     "output_type": "execute_result"
    }
   ],
   "source": [
    "facilities.isna().mean()*100"
   ]
  },
  {
   "cell_type": "markdown",
   "id": "6ac082cb-5b36-434c-ae06-3abf7397a668",
   "metadata": {
    "jp-MarkdownHeadingCollapsed": true,
    "tags": []
   },
   "source": [
    "# Interfacility Orders anonymized"
   ]
  },
  {
   "cell_type": "code",
   "execution_count": 36,
   "id": "b4b3ded7-385c-4b23-ae32-bc4b6c94d503",
   "metadata": {},
   "outputs": [],
   "source": [
    "int_orders = tables[2]"
   ]
  },
  {
   "cell_type": "code",
   "execution_count": 37,
   "id": "e0d1d035-4eee-442e-b82d-196967d69db1",
   "metadata": {},
   "outputs": [
    {
     "data": {
      "text/html": [
       "<div>\n",
       "<style scoped>\n",
       "    .dataframe tbody tr th:only-of-type {\n",
       "        vertical-align: middle;\n",
       "    }\n",
       "\n",
       "    .dataframe tbody tr th {\n",
       "        vertical-align: top;\n",
       "    }\n",
       "\n",
       "    .dataframe thead th {\n",
       "        text-align: right;\n",
       "    }\n",
       "</style>\n",
       "<table border=\"1\" class=\"dataframe\">\n",
       "  <thead>\n",
       "    <tr style=\"text-align: right;\">\n",
       "      <th></th>\n",
       "      <th>DIMU</th>\n",
       "      <th>DIFFAC</th>\n",
       "      <th>DIIOID</th>\n",
       "      <th>DITYPE</th>\n",
       "      <th>DITFAC</th>\n",
       "      <th>DIPART</th>\n",
       "      <th>DIQTY</th>\n",
       "      <th>DIIUM</th>\n",
       "      <th>DIRDAT</th>\n",
       "    </tr>\n",
       "  </thead>\n",
       "  <tbody>\n",
       "    <tr>\n",
       "      <th>0</th>\n",
       "      <td>31</td>\n",
       "      <td>DCACU4</td>\n",
       "      <td>41156.0</td>\n",
       "      <td>Purchase order</td>\n",
       "      <td>NL</td>\n",
       "      <td>SKU21125</td>\n",
       "      <td>24</td>\n",
       "      <td>PR</td>\n",
       "      <td>220103</td>\n",
       "    </tr>\n",
       "    <tr>\n",
       "      <th>1</th>\n",
       "      <td>31</td>\n",
       "      <td>DCACU4</td>\n",
       "      <td>41156.0</td>\n",
       "      <td>Purchase order</td>\n",
       "      <td>NL</td>\n",
       "      <td>SKU21127</td>\n",
       "      <td>12</td>\n",
       "      <td>PR</td>\n",
       "      <td>220103</td>\n",
       "    </tr>\n",
       "    <tr>\n",
       "      <th>2</th>\n",
       "      <td>31</td>\n",
       "      <td>DCACU4</td>\n",
       "      <td>41156.0</td>\n",
       "      <td>Purchase order</td>\n",
       "      <td>NL</td>\n",
       "      <td>SKU21129</td>\n",
       "      <td>36</td>\n",
       "      <td>PR</td>\n",
       "      <td>220103</td>\n",
       "    </tr>\n",
       "    <tr>\n",
       "      <th>3</th>\n",
       "      <td>31</td>\n",
       "      <td>DCACU4</td>\n",
       "      <td>41156.0</td>\n",
       "      <td>Purchase order</td>\n",
       "      <td>NL</td>\n",
       "      <td>SKU21131</td>\n",
       "      <td>24</td>\n",
       "      <td>PR</td>\n",
       "      <td>220103</td>\n",
       "    </tr>\n",
       "    <tr>\n",
       "      <th>4</th>\n",
       "      <td>31</td>\n",
       "      <td>DCACU4</td>\n",
       "      <td>41156.0</td>\n",
       "      <td>Purchase order</td>\n",
       "      <td>NL</td>\n",
       "      <td>SKU21133</td>\n",
       "      <td>48</td>\n",
       "      <td>PR</td>\n",
       "      <td>220103</td>\n",
       "    </tr>\n",
       "  </tbody>\n",
       "</table>\n",
       "</div>"
      ],
      "text/plain": [
       "   DIMU  DIFFAC   DIIOID          DITYPE DITFAC    DIPART  DIQTY DIIUM  DIRDAT\n",
       "0    31  DCACU4  41156.0  Purchase order     NL  SKU21125     24    PR  220103\n",
       "1    31  DCACU4  41156.0  Purchase order     NL  SKU21127     12    PR  220103\n",
       "2    31  DCACU4  41156.0  Purchase order     NL  SKU21129     36    PR  220103\n",
       "3    31  DCACU4  41156.0  Purchase order     NL  SKU21131     24    PR  220103\n",
       "4    31  DCACU4  41156.0  Purchase order     NL  SKU21133     48    PR  220103"
      ]
     },
     "execution_count": 37,
     "metadata": {},
     "output_type": "execute_result"
    }
   ],
   "source": [
    "int_orders.head()"
   ]
  },
  {
   "cell_type": "code",
   "execution_count": 38,
   "id": "f4c25397-b436-4120-8446-ca264473b7d3",
   "metadata": {},
   "outputs": [
    {
     "name": "stdout",
     "output_type": "stream",
     "text": [
      "44    352755\n",
      "31     56214\n",
      "Name: DIMU, dtype: int64\n",
      "LENGTH: 2\n"
     ]
    }
   ],
   "source": [
    "get_column_category_values(int_orders,\"DIMU\")"
   ]
  },
  {
   "cell_type": "code",
   "execution_count": 39,
   "id": "02a83c1d-8d03-49d5-8298-20e99c794fd2",
   "metadata": {},
   "outputs": [
    {
     "name": "stdout",
     "output_type": "stream",
     "text": [
      "RC        151296\n",
      "UK         67857\n",
      "LG         47651\n",
      "NL         21784\n",
      "AP         13616\n",
      "           ...  \n",
      "BJE01          1\n",
      "NAI01          1\n",
      "DCWEL2         1\n",
      "ASP03          1\n",
      "OCE01          1\n",
      "Name: DIFFAC, Length: 138, dtype: int64\n",
      "LENGTH: 138\n"
     ]
    }
   ],
   "source": [
    "get_column_category_values(int_orders,\"DIFFAC\")"
   ]
  },
  {
   "cell_type": "code",
   "execution_count": 40,
   "id": "ea2ae5de-c74c-4891-8492-0d072d42a645",
   "metadata": {},
   "outputs": [
    {
     "name": "stdout",
     "output_type": "stream",
     "text": [
      "480673.000    952\n",
      "633041.000    640\n",
      "612662.000    616\n",
      "41754.000     536\n",
      "10431.000     498\n",
      "             ... \n",
      "245147.002      1\n",
      "245147.003      1\n",
      "245147.004      1\n",
      "245147.005      1\n",
      "912213.000      1\n",
      "Name: DIIOID, Length: 272934, dtype: int64\n",
      "LENGTH: 272934\n"
     ]
    }
   ],
   "source": [
    "get_column_category_values(int_orders,\"DIIOID\")"
   ]
  },
  {
   "cell_type": "code",
   "execution_count": 41,
   "id": "cd345d9d-3da8-4963-87c5-e950ebb73ea9",
   "metadata": {},
   "outputs": [
    {
     "name": "stdout",
     "output_type": "stream",
     "text": [
      "Work order             267341\n",
      "Purchase order          90142\n",
      "Interbranch receipt     35604\n",
      "Interbranch ship        15882\n",
      "Name: DITYPE, dtype: int64\n",
      "LENGTH: 4\n"
     ]
    }
   ],
   "source": [
    "get_column_category_values(int_orders,\"DITYPE\")"
   ]
  },
  {
   "cell_type": "code",
   "execution_count": 42,
   "id": "3c7aae86-07b1-4e88-84f1-436bbed15bb2",
   "metadata": {},
   "outputs": [
    {
     "name": "stdout",
     "output_type": "stream",
     "text": [
      "RC    172504\n",
      "UK     61723\n",
      "NL     55266\n",
      "LG     48419\n",
      "AP     18148\n",
      "DV     12683\n",
      "WB      8922\n",
      "UA      7780\n",
      "UC      6911\n",
      "UN      5763\n",
      "80      2167\n",
      "DG      1668\n",
      "S       1511\n",
      "UD      1378\n",
      "CG      1189\n",
      "KA      1051\n",
      "QM       759\n",
      "NM       595\n",
      "MY       185\n",
      "NS       168\n",
      "RK       141\n",
      "CS        38\n",
      "Name: DITFAC, dtype: int64\n",
      "LENGTH: 22\n"
     ]
    }
   ],
   "source": [
    "get_column_category_values(int_orders,\"DITFAC\")"
   ]
  },
  {
   "cell_type": "code",
   "execution_count": 43,
   "id": "c6b87e9d-36ef-47d9-bb7a-6b562fa41766",
   "metadata": {},
   "outputs": [
    {
     "name": "stdout",
     "output_type": "stream",
     "text": [
      "SKU39997    30417\n",
      "SKU74353     9896\n",
      "SKU24710     8182\n",
      "SKU40078     7776\n",
      "SKU24911     7660\n",
      "            ...  \n",
      "SKU75421        1\n",
      "SKU70288        1\n",
      "SKU68902        1\n",
      "SKU1435         1\n",
      "SKU78044        1\n",
      "Name: DIPART, Length: 15758, dtype: int64\n",
      "LENGTH: 15759\n"
     ]
    }
   ],
   "source": [
    "get_column_category_values(int_orders,\"DIPART\")"
   ]
  },
  {
   "cell_type": "code",
   "execution_count": 44,
   "id": "d65944a1-7ccc-4702-bf8e-143480c1c17e",
   "metadata": {},
   "outputs": [
    {
     "name": "stdout",
     "output_type": "stream",
     "text": [
      " 1        165806\n",
      " 6         20277\n",
      " 12        19845\n",
      " 2         16154\n",
      " 0         13948\n",
      "           ...  \n",
      "-157           1\n",
      " 688           1\n",
      " 3720          1\n",
      " 5964          1\n",
      " 13104         1\n",
      "Name: DIQTY, Length: 1465, dtype: int64\n",
      "LENGTH: 1465\n"
     ]
    }
   ],
   "source": [
    "get_column_category_values(int_orders,\"DIQTY\")"
   ]
  },
  {
   "cell_type": "code",
   "execution_count": 45,
   "id": "701a730f-d45e-437c-bf0b-4d9dbe8d748c",
   "metadata": {},
   "outputs": [
    {
     "name": "stdout",
     "output_type": "stream",
     "text": [
      "EA     305551\n",
      "DZ      50647\n",
      "PR      41550\n",
      "PK       4762\n",
      "SIX      3848\n",
      "ST       2171\n",
      "SET       431\n",
      "BX          9\n",
      "Name: DIIUM, dtype: int64\n",
      "LENGTH: 8\n"
     ]
    }
   ],
   "source": [
    "get_column_category_values(int_orders,\"DIIUM\")"
   ]
  },
  {
   "cell_type": "code",
   "execution_count": 46,
   "id": "95311a49-6cf4-4b45-b942-1ae5d01d4050",
   "metadata": {},
   "outputs": [
    {
     "name": "stdout",
     "output_type": "stream",
     "text": [
      "220329    4026\n",
      "220115    3145\n",
      "220328    3038\n",
      "220330    2866\n",
      "220420    2752\n",
      "          ... \n",
      "220418      30\n",
      "220313      15\n",
      "220625       9\n",
      "220723       6\n",
      "220521       4\n",
      "Name: DIRDAT, Length: 285, dtype: int64\n",
      "LENGTH: 285\n"
     ]
    }
   ],
   "source": [
    "get_column_category_values(int_orders,\"DIRDAT\")"
   ]
  },
  {
   "cell_type": "code",
   "execution_count": 47,
   "id": "662342ea-a9ae-4d6a-b772-88ce5d80727a",
   "metadata": {},
   "outputs": [
    {
     "data": {
      "text/plain": [
       "DIMU      0\n",
       "DIFFAC    0\n",
       "DIIOID    0\n",
       "DITYPE    0\n",
       "DITFAC    0\n",
       "DIPART    7\n",
       "DIQTY     0\n",
       "DIIUM     0\n",
       "DIRDAT    0\n",
       "dtype: int64"
      ]
     },
     "execution_count": 47,
     "metadata": {},
     "output_type": "execute_result"
    }
   ],
   "source": [
    "int_orders.isna().sum()"
   ]
  },
  {
   "cell_type": "markdown",
   "id": "34ee5f78-74f1-4eec-bdea-bc280c3069a8",
   "metadata": {
    "jp-MarkdownHeadingCollapsed": true,
    "tags": []
   },
   "source": [
    "# Parcel File"
   ]
  },
  {
   "cell_type": "code",
   "execution_count": 48,
   "id": "c4883947-e66a-44a6-a6d1-7ca53cc744d4",
   "metadata": {},
   "outputs": [],
   "source": [
    "parcels = tables[3]"
   ]
  },
  {
   "cell_type": "code",
   "execution_count": 49,
   "id": "461859e8-e213-4d71-8436-52e7e6efd171",
   "metadata": {},
   "outputs": [
    {
     "data": {
      "text/html": [
       "<div>\n",
       "<style scoped>\n",
       "    .dataframe tbody tr th:only-of-type {\n",
       "        vertical-align: middle;\n",
       "    }\n",
       "\n",
       "    .dataframe tbody tr th {\n",
       "        vertical-align: top;\n",
       "    }\n",
       "\n",
       "    .dataframe thead th {\n",
       "        text-align: right;\n",
       "    }\n",
       "</style>\n",
       "<table border=\"1\" class=\"dataframe\">\n",
       "  <thead>\n",
       "    <tr style=\"text-align: right;\">\n",
       "      <th></th>\n",
       "      <th>DAMU</th>\n",
       "      <th>DAORD#</th>\n",
       "      <th>DASUFX</th>\n",
       "      <th>DACARR</th>\n",
       "      <th>DAPARN</th>\n",
       "      <th>DACTRY</th>\n",
       "      <th>DAFRTT</th>\n",
       "      <th>DASERC</th>\n",
       "      <th>DASERD</th>\n",
       "    </tr>\n",
       "  </thead>\n",
       "  <tbody>\n",
       "    <tr>\n",
       "      <th>0</th>\n",
       "      <td>31</td>\n",
       "      <td>106457</td>\n",
       "      <td>2</td>\n",
       "      <td>NLD</td>\n",
       "      <td>5228916320361</td>\n",
       "      <td>FR</td>\n",
       "      <td>XWK</td>\n",
       "      <td>101.0</td>\n",
       "      <td>NaN</td>\n",
       "    </tr>\n",
       "    <tr>\n",
       "      <th>1</th>\n",
       "      <td>31</td>\n",
       "      <td>106457</td>\n",
       "      <td>2</td>\n",
       "      <td>NLD</td>\n",
       "      <td>5228916320361</td>\n",
       "      <td>FR</td>\n",
       "      <td>XWK</td>\n",
       "      <td>101.0</td>\n",
       "      <td>NaN</td>\n",
       "    </tr>\n",
       "    <tr>\n",
       "      <th>2</th>\n",
       "      <td>31</td>\n",
       "      <td>106457</td>\n",
       "      <td>2</td>\n",
       "      <td>NLD</td>\n",
       "      <td>5228916320361</td>\n",
       "      <td>FR</td>\n",
       "      <td>XWK</td>\n",
       "      <td>101.0</td>\n",
       "      <td>NaN</td>\n",
       "    </tr>\n",
       "    <tr>\n",
       "      <th>3</th>\n",
       "      <td>31</td>\n",
       "      <td>112788</td>\n",
       "      <td>1</td>\n",
       "      <td>NLD</td>\n",
       "      <td>5228916309387</td>\n",
       "      <td>FR</td>\n",
       "      <td>XWK</td>\n",
       "      <td>101.0</td>\n",
       "      <td>NaN</td>\n",
       "    </tr>\n",
       "    <tr>\n",
       "      <th>4</th>\n",
       "      <td>31</td>\n",
       "      <td>112788</td>\n",
       "      <td>1</td>\n",
       "      <td>NLD</td>\n",
       "      <td>5228916309387</td>\n",
       "      <td>FR</td>\n",
       "      <td>XWK</td>\n",
       "      <td>101.0</td>\n",
       "      <td>NaN</td>\n",
       "    </tr>\n",
       "  </tbody>\n",
       "</table>\n",
       "</div>"
      ],
      "text/plain": [
       "   DAMU  DAORD#  DASUFX DACARR         DAPARN DACTRY DAFRTT  DASERC DASERD\n",
       "0    31  106457       2    NLD  5228916320361     FR    XWK   101.0    NaN\n",
       "1    31  106457       2    NLD  5228916320361     FR    XWK   101.0    NaN\n",
       "2    31  106457       2    NLD  5228916320361     FR    XWK   101.0    NaN\n",
       "3    31  112788       1    NLD  5228916309387     FR    XWK   101.0    NaN\n",
       "4    31  112788       1    NLD  5228916309387     FR    XWK   101.0    NaN"
      ]
     },
     "execution_count": 49,
     "metadata": {},
     "output_type": "execute_result"
    }
   ],
   "source": [
    "parcels.head()"
   ]
  },
  {
   "cell_type": "code",
   "execution_count": 50,
   "id": "fc143bba-a39b-4903-a1da-d1d435598dbe",
   "metadata": {},
   "outputs": [
    {
     "name": "stdout",
     "output_type": "stream",
     "text": [
      "44    693385\n",
      "31     33601\n",
      "Name: DAMU, dtype: int64\n",
      "LENGTH: 2\n"
     ]
    }
   ],
   "source": [
    "# DELIVERY AREA??\n",
    "get_column_category_values(parcels,\"DAMU\")"
   ]
  },
  {
   "cell_type": "code",
   "execution_count": 51,
   "id": "b836b505-4afa-458b-b908-7fca8852851a",
   "metadata": {},
   "outputs": [
    {
     "name": "stdout",
     "output_type": "stream",
     "text": [
      "0         5822\n",
      "559377     297\n",
      "393573     240\n",
      "966840     192\n",
      "646890     183\n",
      "          ... \n",
      "440133       1\n",
      "440132       1\n",
      "440131       1\n",
      "440130       1\n",
      "510310       1\n",
      "Name: DAORD#, Length: 286853, dtype: int64\n",
      "LENGTH: 286853\n"
     ]
    }
   ],
   "source": [
    "# DELIVERY ORDER NUMBER\n",
    "get_column_category_values(parcels,\"DAORD#\")"
   ]
  },
  {
   "cell_type": "code",
   "execution_count": 52,
   "id": "d234f9e7-e20e-4137-bc75-9120dee9c9b3",
   "metadata": {
    "tags": []
   },
   "outputs": [
    {
     "name": "stdout",
     "output_type": "stream",
     "text": [
      "0     643258\n",
      "1      51488\n",
      "2      16020\n",
      "3       6453\n",
      "4       3544\n",
      "5       1989\n",
      "6       1283\n",
      "7       1104\n",
      "9        440\n",
      "8        424\n",
      "10       289\n",
      "12       115\n",
      "11        90\n",
      "16        86\n",
      "13        78\n",
      "14        59\n",
      "15        50\n",
      "18        40\n",
      "34        28\n",
      "22        18\n",
      "23        18\n",
      "20        18\n",
      "19        18\n",
      "17        18\n",
      "24        14\n",
      "26         8\n",
      "32         6\n",
      "29         6\n",
      "30         4\n",
      "36         4\n",
      "44         4\n",
      "21         4\n",
      "27         4\n",
      "28         4\n",
      "Name: DASUFX, dtype: int64\n",
      "LENGTH: 34\n"
     ]
    }
   ],
   "source": [
    "# SUFFIX\n",
    "get_column_category_values(parcels,\"DASUFX\")"
   ]
  },
  {
   "cell_type": "code",
   "execution_count": 53,
   "id": "32e9a8f8-3e4a-4e4e-b1cc-5c77a616c478",
   "metadata": {
    "tags": []
   },
   "outputs": [
    {
     "name": "stdout",
     "output_type": "stream",
     "text": [
      "UKD    484448\n",
      "NLD    208406\n",
      "DTC     34132\n",
      "Name: DACARR, dtype: int64\n",
      "LENGTH: 3\n"
     ]
    }
   ],
   "source": [
    "# PARCEL CARRIER\n",
    "get_column_category_values(parcels,\"DACARR\")"
   ]
  },
  {
   "cell_type": "code",
   "execution_count": 54,
   "id": "6ac7abab-ca33-41d3-9787-436d7120e849",
   "metadata": {},
   "outputs": [
    {
     "name": "stdout",
     "output_type": "stream",
     "text": [
      "5228916445205    33\n",
      "5228916431432    20\n",
      "5228916431382    20\n",
      "5228916431088    20\n",
      "5228916431089    20\n",
      "                 ..\n",
      "2286447833        1\n",
      "2286448018        1\n",
      "2286448260        1\n",
      "2286448045        1\n",
      "2286477107        1\n",
      "Name: DAPARN, Length: 345434, dtype: int64\n",
      "LENGTH: 345434\n"
     ]
    }
   ],
   "source": [
    "# PARCEL NUMBER\n",
    "get_column_category_values(parcels,\"DAPARN\")"
   ]
  },
  {
   "cell_type": "code",
   "execution_count": 55,
   "id": "1e41e3c0-9dbb-40e1-8c03-ae1b1d2921c3",
   "metadata": {},
   "outputs": [
    {
     "name": "stdout",
     "output_type": "stream",
     "text": [
      "GB    456399\n",
      "DE     47355\n",
      "IE     45166\n",
      "SE     42559\n",
      "FR     40136\n",
      "NL     17628\n",
      "ES     16361\n",
      "DK     11320\n",
      "CH     10890\n",
      "FI      7443\n",
      "BE      5928\n",
      "IT      5594\n",
      "AT      5526\n",
      "NO      4675\n",
      "CZ      3848\n",
      "PT      2977\n",
      "LU       725\n",
      "PL       710\n",
      "SK       526\n",
      "EE       341\n",
      "SI       264\n",
      "IC       174\n",
      "AD       112\n",
      "HU        98\n",
      "AX        63\n",
      "LT        56\n",
      "HR        53\n",
      "RO        30\n",
      "BG        29\n",
      "Name: DACTRY, dtype: int64\n",
      "LENGTH: 29\n"
     ]
    }
   ],
   "source": [
    "# PARCEL DESTINATION COUNTRY\n",
    "get_column_category_values(parcels,\"DACTRY\")"
   ]
  },
  {
   "cell_type": "code",
   "execution_count": 56,
   "id": "e682d17f-724d-4936-98d2-0244ab89cfd6",
   "metadata": {},
   "outputs": [
    {
     "name": "stdout",
     "output_type": "stream",
     "text": [
      "STN    269119\n",
      "XWK    250352\n",
      "CUS     95736\n",
      "B2B     81035\n",
      "N       19935\n",
      "NOO      1635\n",
      "CMS       798\n",
      "DLD       671\n",
      "F0        425\n",
      "DIA       389\n",
      "NC        258\n",
      "SAT       208\n",
      "AWW       125\n",
      "EU         81\n",
      "AS         66\n",
      "EUN        54\n",
      "AW         29\n",
      "SK         24\n",
      "NO         24\n",
      "STD        22\n",
      "AWC        16\n",
      "B2E        15\n",
      "AWS        12\n",
      "B2S         3\n",
      "DK          3\n",
      "AE          3\n",
      "Name: DAFRTT, dtype: int64\n",
      "LENGTH: 27\n"
     ]
    }
   ],
   "source": [
    "# FARE TYPE OR Freight Type\n",
    "get_column_category_values(parcels,\"DAFRTT\")"
   ]
  },
  {
   "cell_type": "code",
   "execution_count": 57,
   "id": "748af738-50a5-4eb5-a92e-175bd77ab206",
   "metadata": {},
   "outputs": [
    {
     "name": "stdout",
     "output_type": "stream",
     "text": [
      "12.0     408278\n",
      "101.0    208403\n",
      "11.0      66926\n",
      "19.0       4625\n",
      "13.0       3772\n",
      "14.0        520\n",
      "16.0        327\n",
      "155.0         3\n",
      "Name: DASERC, dtype: int64\n",
      "LENGTH: 9\n"
     ]
    }
   ],
   "source": [
    "# SERVICE CODE OR SERVICE CATEGORY\n",
    "get_column_category_values(parcels,\"DASERC\")"
   ]
  },
  {
   "cell_type": "code",
   "execution_count": 58,
   "id": "a0c72c5d-f865-4930-a810-977ecc969f2e",
   "metadata": {},
   "outputs": [
    {
     "name": "stdout",
     "output_type": "stream",
     "text": [
      "           HELMOND          258\n",
      "uage description transla    126\n",
      "Name: DASERD, dtype: int64\n",
      "LENGTH: 3\n"
     ]
    }
   ],
   "source": [
    "# SERVICE DESCRIPTION\n",
    "get_column_category_values(parcels,\"DASERD\")"
   ]
  },
  {
   "cell_type": "code",
   "execution_count": 59,
   "id": "43fc2157-7939-47d0-8824-94e0b0a2ec80",
   "metadata": {},
   "outputs": [
    {
     "data": {
      "text/plain": [
       "DAMU           0\n",
       "DAORD#         0\n",
       "DASUFX         0\n",
       "DACARR         0\n",
       "DAPARN         0\n",
       "DACTRY         0\n",
       "DAFRTT      5948\n",
       "DASERC     34132\n",
       "DASERD    726602\n",
       "dtype: int64"
      ]
     },
     "execution_count": 59,
     "metadata": {},
     "output_type": "execute_result"
    }
   ],
   "source": [
    "parcels.isna().sum()"
   ]
  },
  {
   "cell_type": "code",
   "execution_count": 60,
   "id": "afdb0e8a-1a21-44ea-bca9-744910e37731",
   "metadata": {},
   "outputs": [
    {
     "data": {
      "text/plain": [
       "DAMU       0.000000\n",
       "DAORD#     0.000000\n",
       "DASUFX     0.000000\n",
       "DACARR     0.000000\n",
       "DAPARN     0.000000\n",
       "DACTRY     0.000000\n",
       "DAFRTT     0.818173\n",
       "DASERC     4.695001\n",
       "DASERD    99.947179\n",
       "dtype: float64"
      ]
     },
     "execution_count": 60,
     "metadata": {},
     "output_type": "execute_result"
    }
   ],
   "source": [
    "parcels.isna().mean() * 100"
   ]
  },
  {
   "cell_type": "markdown",
   "id": "25e7ccc1-6539-4a1c-9552-89eeb1302b1d",
   "metadata": {
    "jp-MarkdownHeadingCollapsed": true,
    "tags": []
   },
   "source": [
    "# Product Master anonymized"
   ]
  },
  {
   "cell_type": "code",
   "execution_count": 61,
   "id": "96e88ce8-a648-4b6e-9555-95d10ff9a788",
   "metadata": {},
   "outputs": [],
   "source": [
    "products = tables[4]"
   ]
  },
  {
   "cell_type": "code",
   "execution_count": 62,
   "id": "590bb43e-5c1e-447c-bc49-552d211bf1bd",
   "metadata": {},
   "outputs": [
    {
     "data": {
      "text/html": [
       "<div>\n",
       "<style scoped>\n",
       "    .dataframe tbody tr th:only-of-type {\n",
       "        vertical-align: middle;\n",
       "    }\n",
       "\n",
       "    .dataframe tbody tr th {\n",
       "        vertical-align: top;\n",
       "    }\n",
       "\n",
       "    .dataframe thead th {\n",
       "        text-align: right;\n",
       "    }\n",
       "</style>\n",
       "<table border=\"1\" class=\"dataframe\">\n",
       "  <thead>\n",
       "    <tr style=\"text-align: right;\">\n",
       "      <th></th>\n",
       "      <th>DPMU</th>\n",
       "      <th>DPWH</th>\n",
       "      <th>DPPART</th>\n",
       "      <th>DPIUM</th>\n",
       "      <th>DPPUM</th>\n",
       "      <th>DPSUM</th>\n",
       "      <th>DPSAF</th>\n",
       "      <th>DPPLIN</th>\n",
       "      <th>DPPCLS</th>\n",
       "      <th>DPDESC</th>\n",
       "      <th>DPBRND</th>\n",
       "      <th>DPDIVN</th>\n",
       "      <th>DPPSTR</th>\n",
       "      <th>DPUSR3</th>\n",
       "      <th>DPVAS</th>\n",
       "      <th>DPCORG</th>\n",
       "      <th>DPWGTK</th>\n",
       "      <th>DPCOMV</th>\n",
       "      <th>DPCOGS</th>\n",
       "      <th>DPCURC</th>\n",
       "    </tr>\n",
       "  </thead>\n",
       "  <tbody>\n",
       "    <tr>\n",
       "      <th>0</th>\n",
       "      <td>44</td>\n",
       "      <td>UK</td>\n",
       "      <td>SKU68030</td>\n",
       "      <td>EA</td>\n",
       "      <td>EA</td>\n",
       "      <td>EA</td>\n",
       "      <td>1.0</td>\n",
       "      <td>85</td>\n",
       "      <td>50</td>\n",
       "      <td>SKU68030</td>\n",
       "      <td>Brand A ACCESSORIES</td>\n",
       "      <td>NaN</td>\n",
       "      <td>VZAAAAA</td>\n",
       "      <td>C</td>\n",
       "      <td>NaN</td>\n",
       "      <td>NaN</td>\n",
       "      <td>0.200</td>\n",
       "      <td>NaN</td>\n",
       "      <td>19.3</td>\n",
       "      <td>£</td>\n",
       "    </tr>\n",
       "    <tr>\n",
       "      <th>1</th>\n",
       "      <td>44</td>\n",
       "      <td>UK</td>\n",
       "      <td>SKU68033</td>\n",
       "      <td>EA</td>\n",
       "      <td>EA</td>\n",
       "      <td>EA</td>\n",
       "      <td>1.0</td>\n",
       "      <td>SA</td>\n",
       "      <td>99</td>\n",
       "      <td>SKU68033</td>\n",
       "      <td>CONSUMABLES</td>\n",
       "      <td>NaN</td>\n",
       "      <td>DDAAAAA</td>\n",
       "      <td>C</td>\n",
       "      <td>NaN</td>\n",
       "      <td>NaN</td>\n",
       "      <td>0.012</td>\n",
       "      <td>NaN</td>\n",
       "      <td>0.0</td>\n",
       "      <td>£</td>\n",
       "    </tr>\n",
       "    <tr>\n",
       "      <th>2</th>\n",
       "      <td>44</td>\n",
       "      <td>UK</td>\n",
       "      <td>SKU68034</td>\n",
       "      <td>EA</td>\n",
       "      <td>EA</td>\n",
       "      <td>EA</td>\n",
       "      <td>1.0</td>\n",
       "      <td>SA</td>\n",
       "      <td>99</td>\n",
       "      <td>SKU68034</td>\n",
       "      <td>CONSUMABLES</td>\n",
       "      <td>NaN</td>\n",
       "      <td>DDAAAAA</td>\n",
       "      <td>C</td>\n",
       "      <td>NaN</td>\n",
       "      <td>NaN</td>\n",
       "      <td>0.012</td>\n",
       "      <td>NaN</td>\n",
       "      <td>0.0</td>\n",
       "      <td>£</td>\n",
       "    </tr>\n",
       "    <tr>\n",
       "      <th>3</th>\n",
       "      <td>44</td>\n",
       "      <td>UK</td>\n",
       "      <td>SKU68036</td>\n",
       "      <td>EA</td>\n",
       "      <td>EA</td>\n",
       "      <td>EA</td>\n",
       "      <td>1.0</td>\n",
       "      <td>SA</td>\n",
       "      <td>99</td>\n",
       "      <td>SKU68036</td>\n",
       "      <td>CONSUMABLES</td>\n",
       "      <td>NaN</td>\n",
       "      <td>DDAAAAA</td>\n",
       "      <td>C</td>\n",
       "      <td>NaN</td>\n",
       "      <td>NaN</td>\n",
       "      <td>0.413</td>\n",
       "      <td>NaN</td>\n",
       "      <td>0.0</td>\n",
       "      <td>£</td>\n",
       "    </tr>\n",
       "    <tr>\n",
       "      <th>4</th>\n",
       "      <td>44</td>\n",
       "      <td>UK</td>\n",
       "      <td>SKU68037</td>\n",
       "      <td>EA</td>\n",
       "      <td>EA</td>\n",
       "      <td>EA</td>\n",
       "      <td>1.0</td>\n",
       "      <td>SA</td>\n",
       "      <td>99</td>\n",
       "      <td>SKU68037</td>\n",
       "      <td>CONSUMABLES</td>\n",
       "      <td>NaN</td>\n",
       "      <td>DDAAAAA</td>\n",
       "      <td>C</td>\n",
       "      <td>NaN</td>\n",
       "      <td>NaN</td>\n",
       "      <td>0.032</td>\n",
       "      <td>NaN</td>\n",
       "      <td>0.0</td>\n",
       "      <td>£</td>\n",
       "    </tr>\n",
       "  </tbody>\n",
       "</table>\n",
       "</div>"
      ],
      "text/plain": [
       "   DPMU DPWH    DPPART DPIUM DPPUM DPSUM  DPSAF DPPLIN DPPCLS    DPDESC  \\\n",
       "0    44   UK  SKU68030    EA    EA    EA    1.0     85     50  SKU68030   \n",
       "1    44   UK  SKU68033    EA    EA    EA    1.0     SA     99  SKU68033   \n",
       "2    44   UK  SKU68034    EA    EA    EA    1.0     SA     99  SKU68034   \n",
       "3    44   UK  SKU68036    EA    EA    EA    1.0     SA     99  SKU68036   \n",
       "4    44   UK  SKU68037    EA    EA    EA    1.0     SA     99  SKU68037   \n",
       "\n",
       "                DPBRND  DPDIVN   DPPSTR DPUSR3 DPVAS  DPCORG  DPWGTK  DPCOMV  \\\n",
       "0  Brand A ACCESSORIES     NaN  VZAAAAA      C   NaN     NaN   0.200     NaN   \n",
       "1          CONSUMABLES     NaN  DDAAAAA      C   NaN     NaN   0.012     NaN   \n",
       "2          CONSUMABLES     NaN  DDAAAAA      C   NaN     NaN   0.012     NaN   \n",
       "3          CONSUMABLES     NaN  DDAAAAA      C   NaN     NaN   0.413     NaN   \n",
       "4          CONSUMABLES     NaN  DDAAAAA      C   NaN     NaN   0.032     NaN   \n",
       "\n",
       "   DPCOGS DPCURC  \n",
       "0    19.3      £  \n",
       "1     0.0      £  \n",
       "2     0.0      £  \n",
       "3     0.0      £  \n",
       "4     0.0      £  "
      ]
     },
     "execution_count": 62,
     "metadata": {},
     "output_type": "execute_result"
    }
   ],
   "source": [
    "products.head()"
   ]
  },
  {
   "cell_type": "code",
   "execution_count": 63,
   "id": "aa3727c6-b513-4112-978f-1f9d29946a80",
   "metadata": {},
   "outputs": [],
   "source": [
    "# Dictionary containing column descriptions for the \"Product Master Anonymized\" table\n",
    "product_master_columns = {\n",
    "    'DPMU': 'Unit of Measure (e.g., EA for Each)',\n",
    "    'DPWH': 'Warehouse Location',\n",
    "    'DPPART': 'Product Part Number',\n",
    "    'DPIUM': 'Item Unit of Measure',\n",
    "    'DPPUM': 'Pricing Unit of Measure',\n",
    "    'DPSUM': 'Shipping Unit of Measure',\n",
    "    'DPSAF': 'Safety Stock Adjustment Factor',\n",
    "    'DPPLIN': 'Planning Lead Time in Days',\n",
    "    'DPPCLS': 'Product Class',\n",
    "    'DPDESC': 'Product Description',\n",
    "    'DPBRND': 'Product Brand',\n",
    "    'DPDIVN': 'Product Division',\n",
    "    'DPPSTR': 'Product Storage Location',\n",
    "    'DPUSR3': 'User-Defined Field 3',\n",
    "    'DPVAS': 'Value Added Service',\n",
    "    'DPCORG': 'Organization Code',\n",
    "    'DPWGTK': 'Product Weight (in a specific unit)',\n",
    "    'DPCOMV': 'Cost of Goods Sold (COGS)',\n",
    "    'DPCOGS': 'Cost of Goods Sold (Alternate)',\n",
    "    'DPCURC': 'Currency Code'\n",
    "}"
   ]
  },
  {
   "cell_type": "code",
   "execution_count": 64,
   "id": "4d55cf8c-030d-4b6a-a347-c72e512a362a",
   "metadata": {
    "tags": []
   },
   "outputs": [
    {
     "name": "stdout",
     "output_type": "stream",
     "text": [
      "##################################################\n",
      "\"DPMU\" Unit of Measure (e.g., EA for Each)\n",
      "44    82259\n",
      "31    81599\n",
      "Name: DPMU, dtype: int64\n",
      "LENGTH: 2\n",
      "\n",
      "##################################################\n",
      "\"DPWH\" Warehouse Location\n",
      "UK    82259\n",
      "NL    81599\n",
      "Name: DPWH, dtype: int64\n",
      "LENGTH: 2\n",
      "\n",
      "##################################################\n",
      "\"DPPART\" Product Part Number\n",
      "SKU68030    2\n",
      "SKU40530    2\n",
      "SKU40588    2\n",
      "SKU40587    2\n",
      "SKU40586    2\n",
      "           ..\n",
      "SKU7776     1\n",
      "SKU7777     1\n",
      "SKU7778     1\n",
      "SKU7779     1\n",
      "SKU64433    1\n",
      "Name: DPPART, Length: 82470, dtype: int64\n",
      "LENGTH: 82470\n",
      "\n",
      "##################################################\n",
      "\"DPIUM\" Item Unit of Measure\n",
      "EA     86387\n",
      "PR     57349\n",
      "DZ      5814\n",
      "SET     5756\n",
      "PK      5629\n",
      "SIX     2013\n",
      "ST       622\n",
      "TB        99\n",
      "ROL       95\n",
      "BX        58\n",
      "M         13\n",
      "CTN       12\n",
      "KG         8\n",
      "CS         3\n",
      "Name: DPIUM, dtype: int64\n",
      "LENGTH: 14\n",
      "\n",
      "##################################################\n",
      "\"DPPUM\" Pricing Unit of Measure\n",
      "EA     81002\n",
      "PR     56749\n",
      "DZ     12771\n",
      "SET     5756\n",
      "PK      5299\n",
      "SIX     1365\n",
      "ST       622\n",
      "TB        99\n",
      "ROL       95\n",
      "BX        64\n",
      "M         13\n",
      "CTN       12\n",
      "KG         8\n",
      "CS         3\n",
      "Name: DPPUM, dtype: int64\n",
      "LENGTH: 14\n",
      "\n",
      "##################################################\n",
      "\"DPSUM\" Shipping Unit of Measure\n",
      "EA     86413\n",
      "PR     57317\n",
      "DZ      5820\n",
      "SET     5752\n",
      "PK      5614\n",
      "SIX     2031\n",
      "ST       622\n",
      "TB        99\n",
      "ROL       95\n",
      "BX        58\n",
      "M         13\n",
      "CTN       12\n",
      "KG         8\n",
      "CS         3\n",
      "Name: DPSUM, dtype: int64\n",
      "LENGTH: 15\n",
      "\n",
      "##################################################\n",
      "\"DPSAF\" Safety Stock Adjustment Factor\n",
      "1.0000      156548\n",
      "6.0000        2479\n",
      "12.0000        693\n",
      "2.0000         674\n",
      "7.0000         515\n",
      "3.0000         461\n",
      "4.0000         409\n",
      "0.2500         406\n",
      "5.0000         252\n",
      "8.0000         203\n",
      "0.1666         176\n",
      "9.0000         120\n",
      "10.0000        113\n",
      "1.2500          94\n",
      "15.0000         74\n",
      "11.0000         70\n",
      "18.0000         68\n",
      "16.0000         62\n",
      "0.5000          52\n",
      "14.0000         50\n",
      "17.0000         44\n",
      "13.0000         38\n",
      "24.0000         38\n",
      "0.0833          32\n",
      "20.0000         31\n",
      "19.0000         30\n",
      "36.0000         26\n",
      "1.7500          25\n",
      "72.0000         14\n",
      "48.0000         14\n",
      "23.0000         10\n",
      "28.0000          6\n",
      "22.0000          6\n",
      "0.8333           4\n",
      "100.0000         4\n",
      "50.0000          4\n",
      "1.5000           3\n",
      "29.0000          2\n",
      "35.0000          2\n",
      "0.6666           2\n",
      "60.0000          2\n",
      "32.0000          2\n",
      "Name: DPSAF, dtype: int64\n",
      "LENGTH: 42\n",
      "\n",
      "##################################################\n",
      "\"DPPLIN\" Planning Lead Time in Days\n",
      "8M    19856\n",
      "09    14866\n",
      "8O    11263\n",
      "8Q     7248\n",
      "07     6806\n",
      "      ...  \n",
      "80        3\n",
      "19        2\n",
      "31        2\n",
      "HI        2\n",
      "24        1\n",
      "Name: DPPLIN, Length: 144, dtype: int64\n",
      "LENGTH: 144\n",
      "\n",
      "##################################################\n",
      "\"DPPCLS\" Product Class\n",
      "67    50901\n",
      "60    48211\n",
      "20    27575\n",
      "50    12179\n",
      "10     6695\n",
      "40     6094\n",
      "99     4884\n",
      "55     3177\n",
      "70     1783\n",
      "80     1121\n",
      "45      438\n",
      "P2      233\n",
      "P1      198\n",
      "65      141\n",
      "97       62\n",
      "25       58\n",
      "96       39\n",
      "P6       38\n",
      "P7       18\n",
      "P4        6\n",
      "P5        6\n",
      "**        1\n",
      "Name: DPPCLS, dtype: int64\n",
      "LENGTH: 22\n",
      "\n",
      "##################################################\n",
      "\"DPDESC\" Product Description\n",
      "SKU68030    2\n",
      "SKU40530    2\n",
      "SKU40588    2\n",
      "SKU40587    2\n",
      "SKU40586    2\n",
      "           ..\n",
      "SKU7776     1\n",
      "SKU7777     1\n",
      "SKU7778     1\n",
      "SKU7779     1\n",
      "SKU64433    1\n",
      "Name: DPDESC, Length: 82470, dtype: int64\n",
      "LENGTH: 82470\n",
      "\n",
      "##################################################\n",
      "\"DPBRND\" Product Brand\n",
      "Brand B POLO SHIRTS        19856\n",
      "Tools COMPONENTS           14866\n",
      "Brand B knitted            11263\n",
      "Brand B TROUSERS            7248\n",
      "Ball customer packaging     6806\n",
      "                           ...  \n",
      "C items                        4\n",
      "Ball customized class 2        4\n",
      "Brand C Customized             4\n",
      "Brand A - tools 3              2\n",
      "Brand C tools  set             1\n",
      "Name: DPBRND, Length: 137, dtype: int64\n",
      "LENGTH: 137\n",
      "\n",
      "##################################################\n",
      "\"DPDIVN\" Product Division\n",
      "Series([], Name: DPDIVN, dtype: int64)\n",
      "LENGTH: 1\n",
      "\n",
      "##################################################\n",
      "\"DPPSTR\" Product Storage Location\n",
      "KZAAAAA    11259\n",
      "NQBXABA     5960\n",
      "EJFAAAA     5221\n",
      "LZAAAAA     4927\n",
      "KZBAAAA     4207\n",
      "           ...  \n",
      "DAAAFAG        1\n",
      "DAAAFAA        1\n",
      "UVCMAAA        1\n",
      "EBBKEAB        1\n",
      "KDLBM          1\n",
      "Name: DPPSTR, Length: 42995, dtype: int64\n",
      "LENGTH: 42995\n",
      "\n",
      "##################################################\n",
      "\"DPUSR3\" User-Defined Field 3\n",
      "M    89673\n",
      "C    73314\n",
      "N       12\n",
      "S        6\n",
      "B        3\n",
      "D        2\n",
      "Name: DPUSR3, dtype: int64\n",
      "LENGTH: 7\n",
      "\n",
      "##################################################\n",
      "\"DPVAS\" Value Added Service\n",
      "Y    7124\n",
      "Name: DPVAS, dtype: int64\n",
      "LENGTH: 2\n",
      "\n",
      "##################################################\n",
      "\"DPCORG\" Organization Code\n",
      "Series([], Name: DPCORG, dtype: int64)\n",
      "LENGTH: 1\n",
      "\n",
      "##################################################\n",
      "\"DPWGTK\" Product Weight (in a specific unit)\n",
      "1.0000    28755\n",
      "0.2500    23633\n",
      "0.3500    15918\n",
      "0.5000    10470\n",
      "1.5000     7320\n",
      "          ...  \n",
      "0.0780        1\n",
      "0.1920        1\n",
      "1.1375        1\n",
      "3.9200        1\n",
      "3.2400        1\n",
      "Name: DPWGTK, Length: 366, dtype: int64\n",
      "LENGTH: 366\n",
      "\n",
      "##################################################\n",
      "\"DPCOMV\" Cost of Goods Sold (COGS)\n",
      "Series([], Name: DPCOMV, dtype: int64)\n",
      "LENGTH: 1\n",
      "\n",
      "##################################################\n",
      "\"DPCOGS\" Cost of Goods Sold (Alternate)\n",
      "0.00      31598\n",
      "0.29       1565\n",
      "128.25     1078\n",
      "16.15       910\n",
      "20.90       878\n",
      "          ...  \n",
      "32.38         1\n",
      "18.84         1\n",
      "4.31          1\n",
      "5.00          1\n",
      "15.12         1\n",
      "Name: DPCOGS, Length: 4195, dtype: int64\n",
      "LENGTH: 4195\n",
      "\n",
      "##################################################\n",
      "\"DPCURC\" Currency Code\n",
      "£    102364\n",
      "Name: DPCURC, dtype: int64\n",
      "LENGTH: 2\n",
      "\n"
     ]
    }
   ],
   "source": [
    "for col in products.columns:\n",
    "    print(\"#\"*50)\n",
    "    print(f'\"{col}\" {product_master_columns[col]}')\n",
    "    get_column_category_values(products,col)\n",
    "    print()"
   ]
  },
  {
   "cell_type": "code",
   "execution_count": 65,
   "id": "6e7cef58-90e0-4d08-bde7-0f7cde24522e",
   "metadata": {},
   "outputs": [
    {
     "data": {
      "text/plain": [
       "DPMU           0\n",
       "DPWH           0\n",
       "DPPART         0\n",
       "DPIUM          0\n",
       "DPPUM          0\n",
       "DPSUM          1\n",
       "DPSAF          0\n",
       "DPPLIN         0\n",
       "DPPCLS         0\n",
       "DPDESC         0\n",
       "DPBRND         0\n",
       "DPDIVN    163858\n",
       "DPPSTR         0\n",
       "DPUSR3       848\n",
       "DPVAS     156734\n",
       "DPCORG    163858\n",
       "DPWGTK         0\n",
       "DPCOMV    163858\n",
       "DPCOGS         0\n",
       "DPCURC     61494\n",
       "dtype: int64"
      ]
     },
     "execution_count": 65,
     "metadata": {},
     "output_type": "execute_result"
    }
   ],
   "source": [
    "products.isna().sum()"
   ]
  },
  {
   "cell_type": "code",
   "execution_count": 66,
   "id": "24329852-5965-4ced-85d8-3cba4992afb7",
   "metadata": {},
   "outputs": [
    {
     "data": {
      "text/plain": [
       "DPMU        0.000000\n",
       "DPWH        0.000000\n",
       "DPPART      0.000000\n",
       "DPIUM       0.000000\n",
       "DPPUM       0.000000\n",
       "DPSUM       0.000610\n",
       "DPSAF       0.000000\n",
       "DPPLIN      0.000000\n",
       "DPPCLS      0.000000\n",
       "DPDESC      0.000000\n",
       "DPBRND      0.000000\n",
       "DPDIVN    100.000000\n",
       "DPPSTR      0.000000\n",
       "DPUSR3      0.517521\n",
       "DPVAS      95.652333\n",
       "DPCORG    100.000000\n",
       "DPWGTK      0.000000\n",
       "DPCOMV    100.000000\n",
       "DPCOGS      0.000000\n",
       "DPCURC     37.528836\n",
       "dtype: float64"
      ]
     },
     "execution_count": 66,
     "metadata": {},
     "output_type": "execute_result"
    }
   ],
   "source": [
    "products.isna().mean()*100"
   ]
  },
  {
   "cell_type": "markdown",
   "id": "a9df2053-4c5b-46fe-9bed-8d53bf8acfe6",
   "metadata": {
    "tags": []
   },
   "source": [
    "# Sales Orders anonymized"
   ]
  },
  {
   "cell_type": "code",
   "execution_count": 67,
   "id": "5efa9114-391f-4de2-aac9-6e7aff9b8db4",
   "metadata": {},
   "outputs": [],
   "source": [
    "sales = tables[5]"
   ]
  },
  {
   "cell_type": "code",
   "execution_count": 68,
   "id": "7fa4fd38-7b7f-4b50-9cdc-c3c751d0258d",
   "metadata": {},
   "outputs": [
    {
     "data": {
      "text/html": [
       "<div>\n",
       "<style scoped>\n",
       "    .dataframe tbody tr th:only-of-type {\n",
       "        vertical-align: middle;\n",
       "    }\n",
       "\n",
       "    .dataframe tbody tr th {\n",
       "        vertical-align: top;\n",
       "    }\n",
       "\n",
       "    .dataframe thead th {\n",
       "        text-align: right;\n",
       "    }\n",
       "</style>\n",
       "<table border=\"1\" class=\"dataframe\">\n",
       "  <thead>\n",
       "    <tr style=\"text-align: right;\">\n",
       "      <th></th>\n",
       "      <th>DOMU</th>\n",
       "      <th>DOWH</th>\n",
       "      <th>DOWHD</th>\n",
       "      <th>DOSTKY</th>\n",
       "      <th>DOSTMU</th>\n",
       "      <th>DOORD#</th>\n",
       "      <th>DOSUFX</th>\n",
       "      <th>DOPART</th>\n",
       "      <th>DOQTY</th>\n",
       "      <th>DOSUM</th>\n",
       "      <th>DOORIG</th>\n",
       "      <th>DODTYP</th>\n",
       "      <th>DODYMD</th>\n",
       "      <th>DOSVAL</th>\n",
       "      <th>DOCURC</th>\n",
       "      <th>DOCUST</th>\n",
       "      <th>VALUE €</th>\n",
       "    </tr>\n",
       "  </thead>\n",
       "  <tbody>\n",
       "    <tr>\n",
       "      <th>0</th>\n",
       "      <td>31</td>\n",
       "      <td>NL</td>\n",
       "      <td>WarehouseNL1</td>\n",
       "      <td>312160</td>\n",
       "      <td>30</td>\n",
       "      <td>100068</td>\n",
       "      <td>2</td>\n",
       "      <td>SKU71623</td>\n",
       "      <td>1</td>\n",
       "      <td>EA</td>\n",
       "      <td>NaN</td>\n",
       "      <td>NaN</td>\n",
       "      <td>220411</td>\n",
       "      <td>0.0075</td>\n",
       "      <td>EU</td>\n",
       "      <td>NaN</td>\n",
       "      <td>0.006919</td>\n",
       "    </tr>\n",
       "    <tr>\n",
       "      <th>1</th>\n",
       "      <td>31</td>\n",
       "      <td>NL</td>\n",
       "      <td>WarehouseNL1</td>\n",
       "      <td>334000</td>\n",
       "      <td>33</td>\n",
       "      <td>100076</td>\n",
       "      <td>0</td>\n",
       "      <td>SKU45337</td>\n",
       "      <td>1</td>\n",
       "      <td>PR</td>\n",
       "      <td>NaN</td>\n",
       "      <td>NaN</td>\n",
       "      <td>220113</td>\n",
       "      <td>16.3875</td>\n",
       "      <td>EU</td>\n",
       "      <td>NaN</td>\n",
       "      <td>15.117469</td>\n",
       "    </tr>\n",
       "    <tr>\n",
       "      <th>2</th>\n",
       "      <td>31</td>\n",
       "      <td>NL</td>\n",
       "      <td>WarehouseNL1</td>\n",
       "      <td>32A600</td>\n",
       "      <td>33</td>\n",
       "      <td>100132</td>\n",
       "      <td>0</td>\n",
       "      <td>SKU41144</td>\n",
       "      <td>2</td>\n",
       "      <td>EA</td>\n",
       "      <td>OASIS</td>\n",
       "      <td>Y</td>\n",
       "      <td>220304</td>\n",
       "      <td>24.1425</td>\n",
       "      <td>EU</td>\n",
       "      <td>NaN</td>\n",
       "      <td>22.271456</td>\n",
       "    </tr>\n",
       "    <tr>\n",
       "      <th>3</th>\n",
       "      <td>31</td>\n",
       "      <td>NL</td>\n",
       "      <td>WarehouseNL1</td>\n",
       "      <td>32A600</td>\n",
       "      <td>33</td>\n",
       "      <td>100132</td>\n",
       "      <td>0</td>\n",
       "      <td>SKU41145</td>\n",
       "      <td>1</td>\n",
       "      <td>EA</td>\n",
       "      <td>OASIS</td>\n",
       "      <td>Y</td>\n",
       "      <td>220304</td>\n",
       "      <td>12.0750</td>\n",
       "      <td>EU</td>\n",
       "      <td>NaN</td>\n",
       "      <td>11.139188</td>\n",
       "    </tr>\n",
       "    <tr>\n",
       "      <th>4</th>\n",
       "      <td>31</td>\n",
       "      <td>NL</td>\n",
       "      <td>WarehouseNL1</td>\n",
       "      <td>32A600</td>\n",
       "      <td>33</td>\n",
       "      <td>100132</td>\n",
       "      <td>0</td>\n",
       "      <td>SKU41151</td>\n",
       "      <td>1</td>\n",
       "      <td>EA</td>\n",
       "      <td>OASIS</td>\n",
       "      <td>Y</td>\n",
       "      <td>220304</td>\n",
       "      <td>12.0750</td>\n",
       "      <td>EU</td>\n",
       "      <td>NaN</td>\n",
       "      <td>11.139188</td>\n",
       "    </tr>\n",
       "  </tbody>\n",
       "</table>\n",
       "</div>"
      ],
      "text/plain": [
       "   DOMU DOWH         DOWHD  DOSTKY  DOSTMU  DOORD#  DOSUFX    DOPART  DOQTY  \\\n",
       "0    31   NL  WarehouseNL1  312160      30  100068       2  SKU71623      1   \n",
       "1    31   NL  WarehouseNL1  334000      33  100076       0  SKU45337      1   \n",
       "2    31   NL  WarehouseNL1  32A600      33  100132       0  SKU41144      2   \n",
       "3    31   NL  WarehouseNL1  32A600      33  100132       0  SKU41145      1   \n",
       "4    31   NL  WarehouseNL1  32A600      33  100132       0  SKU41151      1   \n",
       "\n",
       "  DOSUM DOORIG DODTYP  DODYMD   DOSVAL DOCURC DOCUST    VALUE €  \n",
       "0    EA    NaN    NaN  220411   0.0075     EU    NaN   0.006919  \n",
       "1    PR    NaN    NaN  220113  16.3875     EU    NaN  15.117469  \n",
       "2    EA  OASIS      Y  220304  24.1425     EU    NaN  22.271456  \n",
       "3    EA  OASIS      Y  220304  12.0750     EU    NaN  11.139188  \n",
       "4    EA  OASIS      Y  220304  12.0750     EU    NaN  11.139188  "
      ]
     },
     "execution_count": 68,
     "metadata": {},
     "output_type": "execute_result"
    }
   ],
   "source": [
    "sales.head()"
   ]
  },
  {
   "cell_type": "code",
   "execution_count": 69,
   "id": "61dacfe1-e1ea-4421-af09-d57f5fe3d182",
   "metadata": {},
   "outputs": [],
   "source": [
    "# Dictionary containing column descriptions for the \"Sales Orders Anonymized\" table\n",
    "sales_orders_columns = {\n",
    "    'DOMU': 'Customer Code',\n",
    "    'DOWH': 'Warehouse Location',\n",
    "    'DOWHD': 'Warehouse Description',\n",
    "    'DOSTKY': 'Stock Type Key',\n",
    "    'DOSTMU': 'Stock Type Measurement Unit',\n",
    "    'DOORD#': 'Order Number',\n",
    "    'DOSUFX': 'Order Suffix',\n",
    "    'DOPART': 'Product Part Number',\n",
    "    'DOQTY': 'Order Quantity',\n",
    "    'DOSUM': 'Order Summary',\n",
    "    'DOORIG': 'Order Origin',\n",
    "    'DODTYP': 'Order Type',\n",
    "    'DODYMD': 'Order Date (Year-Month-Day)',\n",
    "    'DOSVAL': 'Sales Order Value',\n",
    "    'DOCURC': 'Currency Code',\n",
    "    'DOCUST': 'Customer Code (Alternate)',\n",
    "    'VALUE €': 'Sales Order Value in Euros'\n",
    "}\n"
   ]
  },
  {
   "cell_type": "code",
   "execution_count": 70,
   "id": "bb60e787-b154-42d1-beae-08c110a6572a",
   "metadata": {},
   "outputs": [
    {
     "name": "stdout",
     "output_type": "stream",
     "text": [
      "##################################################\n",
      "\"DOMU\" Customer Code\n",
      "44    1196184\n",
      "31     780028\n",
      "Name: DOMU, dtype: int64\n",
      "LENGTH: 2\n",
      "\n",
      "##################################################\n",
      "\"DOWH\" Warehouse Location\n",
      "NL    778552\n",
      "UK    768822\n",
      "RC    164437\n",
      "DV     62108\n",
      "LG     50826\n",
      "QM     39405\n",
      "UA     25037\n",
      "S      15557\n",
      "80     15388\n",
      "AP     11883\n",
      "WB     10356\n",
      "DG      9699\n",
      "UN      9004\n",
      "UC      6273\n",
      "CG      2056\n",
      "MJ      2004\n",
      "KA      1835\n",
      "UD      1390\n",
      "NM       726\n",
      "NS       644\n",
      "MY       187\n",
      "CS        22\n",
      "RK         1\n",
      "Name: DOWH, dtype: int64\n",
      "LENGTH: 23\n",
      "\n",
      "##################################################\n",
      "\"DOWHD\" Warehouse Description\n",
      "WarehouseNL1                      778471\n",
      "Warehouse GB MAIN                 768822\n",
      "RAW MATERIALs-                    164437\n",
      "DTC Warehouse GB                   62108\n",
      "Customization warehouse GB1        50826\n",
      "Customization warehouse GB2        39405\n",
      "DTC offsite warehouse GB3          25037\n",
      "Warehouse GB samples               15557\n",
      "European League Warehouse GB 2     15388\n",
      "Off site customization GB          11883\n",
      "CARSTOCK WAREHOUSE                 10356\n",
      "DTC offsite warehouse GB2           9699\n",
      "Warehouse GB NAT                    9004\n",
      "Warehouse GB tools                  6273\n",
      "Warehouse GB                        2078\n",
      "Eurpean League Warehouse GB 1       1835\n",
      "Warehouse GB LOG                    1390\n",
      "WarehouseNL3                         726\n",
      "Warehouse NL samples                 644\n",
      "WarehouseNL2                         187\n",
      "RAW MATERIAL - BRAND C                 1\n",
      "Name: DOWHD, dtype: int64\n",
      "LENGTH: 22\n",
      "\n",
      "##################################################\n",
      "\"DOSTKY\" Stock Type Key\n",
      "44DTC0    36002\n",
      "44DTC1    20265\n",
      "06377B    18994\n",
      "021260    13706\n",
      "49DTC0    12393\n",
      "          ...  \n",
      "510444        1\n",
      "999802        1\n",
      "458056        1\n",
      "040840        1\n",
      "433532        1\n",
      "Name: DOSTKY, Length: 6589, dtype: int64\n",
      "LENGTH: 6590\n",
      "\n",
      "##################################################\n",
      "\"DOSTMU\" Stock Type Measurement Unit\n",
      "44    929350\n",
      "33    249077\n",
      "49    226714\n",
      "46    153484\n",
      "34     99371\n",
      "35     89321\n",
      "30     66521\n",
      "45     41811\n",
      "58     37339\n",
      "39     23824\n",
      "47     21228\n",
      "43     18429\n",
      "31     14074\n",
      "27      5669\n",
      "Name: DOSTMU, dtype: int64\n",
      "LENGTH: 14\n",
      "\n",
      "##################################################\n",
      "\"DOORD#\" Order Number\n",
      "116232    841\n",
      "158401    649\n",
      "159748    645\n",
      "158069    624\n",
      "225225    622\n",
      "         ... \n",
      "378049      1\n",
      "537866      1\n",
      "537867      1\n",
      "378048      1\n",
      "100068      1\n",
      "Name: DOORD#, Length: 423699, dtype: int64\n",
      "LENGTH: 423699\n",
      "\n",
      "##################################################\n",
      "\"DOSUFX\" Order Suffix\n",
      "0     1659064\n",
      "1      202306\n",
      "2       59826\n",
      "3       25367\n",
      "4       12612\n",
      "5        6171\n",
      "6        3690\n",
      "7        2281\n",
      "8        1252\n",
      "9         875\n",
      "10        642\n",
      "11        441\n",
      "12        375\n",
      "13        255\n",
      "14        199\n",
      "15        123\n",
      "16         96\n",
      "18         88\n",
      "17         77\n",
      "24         63\n",
      "20         56\n",
      "19         56\n",
      "21         47\n",
      "22         45\n",
      "23         34\n",
      "25         31\n",
      "28         22\n",
      "26         21\n",
      "27         19\n",
      "33         13\n",
      "29         12\n",
      "30         10\n",
      "34          8\n",
      "31          8\n",
      "32          6\n",
      "38          5\n",
      "35          3\n",
      "36          3\n",
      "41          3\n",
      "44          2\n",
      "37          1\n",
      "39          1\n",
      "40          1\n",
      "42          1\n",
      "43          1\n",
      "Name: DOSUFX, dtype: int64\n",
      "LENGTH: 45\n",
      "\n",
      "##################################################\n",
      "\"DOPART\" Product Part Number\n",
      "SKU39997    30210\n",
      "SKU74465    13322\n",
      "SKU72983    13106\n",
      "SKU74353     9987\n",
      "SKU75488     9688\n",
      "            ...  \n",
      "SKU65771        1\n",
      "SKU65770        1\n",
      "SKU27681        1\n",
      "SKU36379        1\n",
      "SKU62878        1\n",
      "Name: DOPART, Length: 17751, dtype: int64\n",
      "LENGTH: 17752\n",
      "\n",
      "##################################################\n",
      "\"DOQTY\" Order Quantity\n",
      "1      1113764\n",
      "2       229724\n",
      "6       173980\n",
      "12       95155\n",
      "3        82290\n",
      "        ...   \n",
      "464          1\n",
      "496          1\n",
      "661          1\n",
      "349          1\n",
      "265          1\n",
      "Name: DOQTY, Length: 704, dtype: int64\n",
      "LENGTH: 704\n",
      "\n",
      "##################################################\n",
      "\"DOSUM\" Order Summary\n",
      "EA     1085098\n",
      "PR      584483\n",
      "DZ      155905\n",
      "SIX      85483\n",
      "PK       58818\n",
      "ST        5921\n",
      "BX         494\n",
      "SET         10\n",
      "Name: DOSUM, dtype: int64\n",
      "LENGTH: 8\n",
      "\n",
      "##################################################\n",
      "\"DOORIG\" Order Origin\n",
      "OASIS    969873\n",
      "B2B      215727\n",
      "SHEET    115962\n",
      "DTC       57364\n",
      "EDI       30858\n",
      "XM         2202\n",
      "Name: DOORIG, dtype: int64\n",
      "LENGTH: 7\n",
      "\n",
      "##################################################\n",
      "\"DODTYP\" Order Type\n",
      "Y    706728\n",
      "S     46535\n",
      "G     29336\n",
      "3     28491\n",
      "L     14999\n",
      "P     11000\n",
      "B      9706\n",
      "2      7597\n",
      "A      5662\n",
      "K      3810\n",
      "D       996\n",
      "1       739\n",
      "X       435\n",
      "C        41\n",
      "F         1\n",
      "Name: DODTYP, dtype: int64\n",
      "LENGTH: 16\n",
      "\n",
      "##################################################\n",
      "\"DODYMD\" Order Date (Year-Month-Day)\n",
      "220210    20311\n",
      "220104    20252\n",
      "220310    18146\n",
      "220308    17230\n",
      "220309    17117\n",
      "          ...  \n",
      "220924        9\n",
      "220703        2\n",
      "220416        1\n",
      "220522        1\n",
      "220410        1\n",
      "Name: DODYMD, Length: 295, dtype: int64\n",
      "LENGTH: 295\n",
      "\n",
      "##################################################\n",
      "\"DOSVAL\" Sales Order Value\n",
      "0.0000      82003\n",
      "69.1875     34063\n",
      "62.7750     11847\n",
      "0.0075      11355\n",
      "20.3550     10996\n",
      "            ...  \n",
      "501.3000        1\n",
      "440.2800        1\n",
      "566.6850        1\n",
      "577.2375        1\n",
      "613.0725        1\n",
      "Name: DOSVAL, Length: 61589, dtype: int64\n",
      "LENGTH: 61589\n",
      "\n",
      "##################################################\n",
      "\"DOCURC\" Currency Code\n",
      "£     898920\n",
      "EU    824933\n",
      "SK    158169\n",
      "DK     43253\n",
      "NK     21789\n",
      "$      20607\n",
      "R       8541\n",
      "Name: DOCURC, dtype: int64\n",
      "LENGTH: 7\n",
      "\n",
      "##################################################\n",
      "\"DOCUST\" Customer Code (Alternate)\n",
      "Y    266250\n",
      "Name: DOCUST, dtype: int64\n",
      "LENGTH: 2\n",
      "\n",
      "##################################################\n",
      "\"VALUE €\" Sales Order Value in Euros\n",
      "0.000000      82003\n",
      "63.825469     34063\n",
      "57.909937     11847\n",
      "0.006919      11355\n",
      "18.777487     10996\n",
      "              ...  \n",
      "462.449250        1\n",
      "406.158300        1\n",
      "522.766912        1\n",
      "532.501594        1\n",
      "565.559381        1\n",
      "Name: VALUE €, Length: 61589, dtype: int64\n",
      "LENGTH: 61589\n",
      "\n"
     ]
    }
   ],
   "source": [
    "for col in sales.columns:\n",
    "    print(\"#\"*50)\n",
    "    print(f'\"{col}\" {sales_orders_columns[col]}')\n",
    "    get_column_category_values(sales,col)\n",
    "    print()"
   ]
  },
  {
   "cell_type": "code",
   "execution_count": 71,
   "id": "ea580a23-2f92-4b7d-987b-57f9bbe2b330",
   "metadata": {},
   "outputs": [
    {
     "data": {
      "text/plain": [
       "DOMU             0\n",
       "DOWH             0\n",
       "DOWHD         2085\n",
       "DOSTKY        2085\n",
       "DOSTMU           0\n",
       "DOORD#           0\n",
       "DOSUFX           0\n",
       "DOPART           7\n",
       "DOQTY            0\n",
       "DOSUM            0\n",
       "DOORIG      584226\n",
       "DODTYP     1110136\n",
       "DODYMD           0\n",
       "DOSVAL           0\n",
       "DOCURC           0\n",
       "DOCUST     1709962\n",
       "VALUE €          0\n",
       "dtype: int64"
      ]
     },
     "execution_count": 71,
     "metadata": {},
     "output_type": "execute_result"
    }
   ],
   "source": [
    "sales.isna().sum()"
   ]
  },
  {
   "cell_type": "code",
   "execution_count": 72,
   "id": "8500c535-b3e8-4860-8adb-1670d114bbf3",
   "metadata": {},
   "outputs": [
    {
     "data": {
      "text/plain": [
       "DOMU        0.000000\n",
       "DOWH        0.000000\n",
       "DOWHD       0.105505\n",
       "DOSTKY      0.105505\n",
       "DOSTMU      0.000000\n",
       "DOORD#      0.000000\n",
       "DOSUFX      0.000000\n",
       "DOPART      0.000354\n",
       "DOQTY       0.000000\n",
       "DOSUM       0.000000\n",
       "DOORIG     29.562921\n",
       "DODTYP     56.174945\n",
       "DODYMD      0.000000\n",
       "DOSVAL      0.000000\n",
       "DOCURC      0.000000\n",
       "DOCUST     86.527255\n",
       "VALUE €     0.000000\n",
       "dtype: float64"
      ]
     },
     "execution_count": 72,
     "metadata": {},
     "output_type": "execute_result"
    }
   ],
   "source": [
    "sales.isna().mean()*100"
   ]
  },
  {
   "cell_type": "code",
   "execution_count": null,
   "id": "23ace446-1e88-4596-b4a3-4b7901bd0fba",
   "metadata": {},
   "outputs": [],
   "source": []
  }
 ],
 "metadata": {
  "kernelspec": {
   "display_name": "Python 3 (ipykernel)",
   "language": "python",
   "name": "python3"
  },
  "language_info": {
   "codemirror_mode": {
    "name": "ipython",
    "version": 3
   },
   "file_extension": ".py",
   "mimetype": "text/x-python",
   "name": "python",
   "nbconvert_exporter": "python",
   "pygments_lexer": "ipython3",
   "version": "3.10.9"
  }
 },
 "nbformat": 4,
 "nbformat_minor": 5
}
