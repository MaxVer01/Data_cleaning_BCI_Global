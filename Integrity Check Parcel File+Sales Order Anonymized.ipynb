{
 "cells": [
  {
   "cell_type": "code",
   "execution_count": 1,
   "id": "32686208",
   "metadata": {},
   "outputs": [],
   "source": [
    "import pandas as pd\n",
    "from os import listdir\n",
    "import plotly.express as px\n",
    "import matplotlib.pyplot as plt\n",
    "from IPython.display import display, HTML"
   ]
  },
  {
   "cell_type": "code",
   "execution_count": 2,
   "id": "ec420740",
   "metadata": {},
   "outputs": [
    {
     "name": "stderr",
     "output_type": "stream",
     "text": [
      "C:\\Users\\51917\\AppData\\Local\\Temp\\ipykernel_18476\\2345763794.py:2: DtypeWarning: Columns (15) have mixed types. Specify dtype option on import or set low_memory=False.\n",
      "  soa = pd.read_csv(\"Tables Joined/Sales Orders anonymized.csv\")\n",
      "C:\\Users\\51917\\AppData\\Local\\Temp\\ipykernel_18476\\2345763794.py:4: DtypeWarning: Columns (8) have mixed types. Specify dtype option on import or set low_memory=False.\n",
      "  pf = pd.read_csv(\"Tables Joined/Parcel File.csv\")\n"
     ]
    }
   ],
   "source": [
    "# Sales Order Anonymized\n",
    "soa = pd.read_csv(\"Tables Joined/Sales Orders anonymized.csv\")\n",
    "# Parcel File\n",
    "pf = pd.read_csv(\"Tables Joined/Parcel File.csv\")"
   ]
  },
  {
   "cell_type": "markdown",
   "id": "61da7fc0",
   "metadata": {},
   "source": [
    "# Integrity Check Functions"
   ]
  },
  {
   "cell_type": "code",
   "execution_count": 13,
   "id": "595fdcb4",
   "metadata": {},
   "outputs": [],
   "source": [
    "def check_and_remove_duplicates(dataframe):\n",
    "    duplicate_rows = dataframe[dataframe.duplicated()]\n",
    "    print(\"Amount of duplicates:\", len(duplicate_rows))\n",
    "    # Remove duplicates\n",
    "    df_no_duplicates = dataframe.drop_duplicates()\n",
    "    print(\"duplicate rows have been removed from dataframe\")\n",
    "    return df_no_duplicates"
   ]
  },
  {
   "cell_type": "code",
   "execution_count": 14,
   "id": "ccfb214d",
   "metadata": {},
   "outputs": [],
   "source": [
    "def integrity_check(id_columns, dataframe):\n",
    "    # Step 1: Share of negative values in numerical columns (excluding id columns)\n",
    "    numerical_columns = [col for col in dataframe.select_dtypes(include='number').columns if col not in id_columns]\n",
    "    negative_share = {}\n",
    "    \n",
    "    for col in numerical_columns:\n",
    "        negative_count = dataframe[col][dataframe[col] < 0].count()\n",
    "        total_count = len(dataframe)\n",
    "        \n",
    "        if negative_count > 0:\n",
    "            negative_share[col] = negative_count / total_count\n",
    "        else:\n",
    "            negative_share[col] = 0.0\n",
    "\n",
    "    # Step 2: Report for Text and ID columns\n",
    "    text_id_columns = [col for col in dataframe.columns if pd.api.types.is_string_dtype(dataframe[col]) or col in id_columns]\n",
    "    report_text_id = {}\n",
    "    for col in text_id_columns:\n",
    "        blanks_percentage = dataframe[col].isnull().mean() * 100\n",
    "        unique_values_count = dataframe[col].nunique()\n",
    "        top_values = dataframe[col].value_counts().head(10)\n",
    "        top_values_percentage = (top_values / len(dataframe)) * 100\n",
    "        report_text_id[col] = {'blanks_percentage': blanks_percentage,\n",
    "                               'unique_values_count': unique_values_count,\n",
    "                               'top_values': top_values,\n",
    "                               'top_values_percentage': top_values_percentage}\n",
    "\n",
    "    # Step 3: Report for Numerical columns\n",
    "    report_numerical = {}\n",
    "    for col in numerical_columns:\n",
    "        blanks_percentage = dataframe[col].isnull().mean() * 100\n",
    "        minimum_value = dataframe[col].min()\n",
    "        average_value = dataframe[col].mean()\n",
    "        median_value = dataframe[col].median()\n",
    "        maximum_value = dataframe[col].max()\n",
    "        report_numerical[col] = {'blanks_percentage': blanks_percentage,\n",
    "                                 'minimum_value': minimum_value,\n",
    "                                 'average_value': average_value,\n",
    "                                 'median_value': median_value,\n",
    "                                 'maximum_value': maximum_value}\n",
    "\n",
    "    return negative_share, report_text_id, report_numerical"
   ]
  },
  {
   "cell_type": "code",
   "execution_count": 15,
   "id": "99674d03",
   "metadata": {
    "scrolled": false
   },
   "outputs": [],
   "source": [
    "def generate_html_report(id_columns, negative_share, report_text_id, report_numerical):\n",
    "    # Create an HTML report\n",
    "    html_report = \"\"\"\n",
    "    <html>\n",
    "    <head>\n",
    "        <style>\n",
    "            table {\n",
    "                border-collapse: collapse;\n",
    "                width: 100%;\n",
    "            }\n",
    "            th, td {\n",
    "                border: 1px solid #dddddd;\n",
    "                text-align: left;\n",
    "                padding: 8px;\n",
    "            }\n",
    "            th {\n",
    "                background-color: #f2f2f2;\n",
    "            }\n",
    "        </style>\n",
    "    </head>\n",
    "    <body>\n",
    "    \"\"\"\n",
    "\n",
    "    # Step 0: Numerical ID Columns\n",
    "    html_report += \"<h2>Step 0: Numerical ID Columns</h2>\"\n",
    "    html_report += \"<ul>\"\n",
    "    for col in id_columns:\n",
    "        html_report += f\"<li>{col}</li>\"\n",
    "    html_report += \"</ul>\"\n",
    "\n",
    "    # Step 1: Share of Negative Values in Numerical Columns\n",
    "    html_report += \"<h2>Step 1: Share of Negative Values in Numerical Columns (excluding ID columns)</h2>\"\n",
    "    if negative_share:\n",
    "        html_report += \"<ul>\"\n",
    "        for col, share in negative_share.items():\n",
    "            html_report += f\"<li>{col}: {share * 100:.2f}%</li>\"\n",
    "        html_report += \"</ul>\"\n",
    "    else:\n",
    "        html_report += \"<p>No negative values found.</p>\"\n",
    "\n",
    "    # Step 2: Report for Text and ID Columns\n",
    "    html_report += \"<h2>Step 2: Report for Text and ID Columns</h2>\"\n",
    "    for col, report in report_text_id.items():\n",
    "        html_report += f\"<h3>{col}</h3>\"\n",
    "        html_report += f\"<p>Blanks Percentage: {report['blanks_percentage']:.2f}%</p>\"\n",
    "        html_report += f\"<p>Unique Values Count: {report['unique_values_count']}</p>\"\n",
    "        html_report += \"<p>Top 10 Values with Percentage:</p>\"\n",
    "        html_report += \"<table>\"\n",
    "        html_report += \"<tr><th>Value</th><th>Percentage</th></tr>\"\n",
    "        for value, percentage in zip(report['top_values'].index, report['top_values_percentage']):\n",
    "            html_report += f\"<tr><td>{value}</td><td>{percentage:.2f}%</td></tr>\"\n",
    "        html_report += \"</table>\"\n",
    "\n",
    "    # Step 3: Report for Numerical Columns (consolidated table)\n",
    "    html_report += \"<h2>Step 3: Report for Numerical Columns</h2>\"\n",
    "    html_report += \"<table>\"\n",
    "    html_report += \"<tr><th>Column Name</th><th>Blanks Percentage</th><th>Minimum Value</th><th>Average Value</th><th>Median Value</th><th>Maximum Value</th></tr>\"\n",
    "    for col, report in report_numerical.items():\n",
    "        html_report += f\"<tr><td>{col}</td><td>{report['blanks_percentage']:.2f}%</td><td>{report['minimum_value']}</td><td>{report['average_value']}</td><td>{report['median_value']}</td><td>{report['maximum_value']}</td></tr>\"\n",
    "    html_report += \"</table>\"\n",
    "\n",
    "    # Close the HTML report\n",
    "    html_report += \"\"\"\n",
    "    </body>\n",
    "    </html>\n",
    "    \"\"\"\n",
    "\n",
    "    return html_report"
   ]
  },
  {
   "cell_type": "code",
   "execution_count": 16,
   "id": "91919890",
   "metadata": {},
   "outputs": [],
   "source": [
    "def generate_plots(dataframe,id_columns):\n",
    "    numerical_columns = [col for col in dataframe.select_dtypes(include='number').columns if col not in id_columns]\n",
    "    \n",
    "    # Display boxplots for numerical columns\n",
    "    for col in numerical_columns:\n",
    "        plt.figure(figsize=(10, 6))\n",
    "        plt.boxplot(dataframe[col], vert=False)\n",
    "        plt.title(f'Boxplot for {col}')\n",
    "        plt.show()"
   ]
  },
  {
   "cell_type": "markdown",
   "id": "38005d49",
   "metadata": {},
   "source": [
    "# Integrity Check: Sales Orders Anonymized"
   ]
  },
  {
   "cell_type": "code",
   "execution_count": 17,
   "id": "9cb1f01b",
   "metadata": {},
   "outputs": [
    {
     "data": {
      "text/html": [
       "<div>\n",
       "<style scoped>\n",
       "    .dataframe tbody tr th:only-of-type {\n",
       "        vertical-align: middle;\n",
       "    }\n",
       "\n",
       "    .dataframe tbody tr th {\n",
       "        vertical-align: top;\n",
       "    }\n",
       "\n",
       "    .dataframe thead th {\n",
       "        text-align: right;\n",
       "    }\n",
       "</style>\n",
       "<table border=\"1\" class=\"dataframe\">\n",
       "  <thead>\n",
       "    <tr style=\"text-align: right;\">\n",
       "      <th></th>\n",
       "      <th>DOMU</th>\n",
       "      <th>DOWH</th>\n",
       "      <th>DOWHD</th>\n",
       "      <th>DOSTKY</th>\n",
       "      <th>DOSTMU</th>\n",
       "      <th>DOORD#</th>\n",
       "      <th>DOSUFX</th>\n",
       "      <th>DOPART</th>\n",
       "      <th>DOQTY</th>\n",
       "      <th>DOSUM</th>\n",
       "      <th>DOORIG</th>\n",
       "      <th>DODTYP</th>\n",
       "      <th>DODYMD</th>\n",
       "      <th>DOSVAL</th>\n",
       "      <th>DOCURC</th>\n",
       "      <th>DOCUST</th>\n",
       "      <th>VALUE €</th>\n",
       "    </tr>\n",
       "  </thead>\n",
       "  <tbody>\n",
       "    <tr>\n",
       "      <th>0</th>\n",
       "      <td>31</td>\n",
       "      <td>NL</td>\n",
       "      <td>WarehouseNL1</td>\n",
       "      <td>312160</td>\n",
       "      <td>30</td>\n",
       "      <td>100068</td>\n",
       "      <td>2</td>\n",
       "      <td>SKU71623</td>\n",
       "      <td>1</td>\n",
       "      <td>EA</td>\n",
       "      <td>NaN</td>\n",
       "      <td>NaN</td>\n",
       "      <td>220411</td>\n",
       "      <td>0.0075</td>\n",
       "      <td>EU</td>\n",
       "      <td>NaN</td>\n",
       "      <td>0.006919</td>\n",
       "    </tr>\n",
       "    <tr>\n",
       "      <th>1</th>\n",
       "      <td>31</td>\n",
       "      <td>NL</td>\n",
       "      <td>WarehouseNL1</td>\n",
       "      <td>334000</td>\n",
       "      <td>33</td>\n",
       "      <td>100076</td>\n",
       "      <td>0</td>\n",
       "      <td>SKU45337</td>\n",
       "      <td>1</td>\n",
       "      <td>PR</td>\n",
       "      <td>NaN</td>\n",
       "      <td>NaN</td>\n",
       "      <td>220113</td>\n",
       "      <td>16.3875</td>\n",
       "      <td>EU</td>\n",
       "      <td>NaN</td>\n",
       "      <td>15.117469</td>\n",
       "    </tr>\n",
       "    <tr>\n",
       "      <th>2</th>\n",
       "      <td>31</td>\n",
       "      <td>NL</td>\n",
       "      <td>WarehouseNL1</td>\n",
       "      <td>32A600</td>\n",
       "      <td>33</td>\n",
       "      <td>100132</td>\n",
       "      <td>0</td>\n",
       "      <td>SKU41144</td>\n",
       "      <td>2</td>\n",
       "      <td>EA</td>\n",
       "      <td>OASIS</td>\n",
       "      <td>Y</td>\n",
       "      <td>220304</td>\n",
       "      <td>24.1425</td>\n",
       "      <td>EU</td>\n",
       "      <td>NaN</td>\n",
       "      <td>22.271456</td>\n",
       "    </tr>\n",
       "    <tr>\n",
       "      <th>3</th>\n",
       "      <td>31</td>\n",
       "      <td>NL</td>\n",
       "      <td>WarehouseNL1</td>\n",
       "      <td>32A600</td>\n",
       "      <td>33</td>\n",
       "      <td>100132</td>\n",
       "      <td>0</td>\n",
       "      <td>SKU41145</td>\n",
       "      <td>1</td>\n",
       "      <td>EA</td>\n",
       "      <td>OASIS</td>\n",
       "      <td>Y</td>\n",
       "      <td>220304</td>\n",
       "      <td>12.0750</td>\n",
       "      <td>EU</td>\n",
       "      <td>NaN</td>\n",
       "      <td>11.139188</td>\n",
       "    </tr>\n",
       "    <tr>\n",
       "      <th>4</th>\n",
       "      <td>31</td>\n",
       "      <td>NL</td>\n",
       "      <td>WarehouseNL1</td>\n",
       "      <td>32A600</td>\n",
       "      <td>33</td>\n",
       "      <td>100132</td>\n",
       "      <td>0</td>\n",
       "      <td>SKU41151</td>\n",
       "      <td>1</td>\n",
       "      <td>EA</td>\n",
       "      <td>OASIS</td>\n",
       "      <td>Y</td>\n",
       "      <td>220304</td>\n",
       "      <td>12.0750</td>\n",
       "      <td>EU</td>\n",
       "      <td>NaN</td>\n",
       "      <td>11.139188</td>\n",
       "    </tr>\n",
       "  </tbody>\n",
       "</table>\n",
       "</div>"
      ],
      "text/plain": [
       "   DOMU DOWH         DOWHD  DOSTKY  DOSTMU  DOORD#  DOSUFX    DOPART  DOQTY  \\\n",
       "0    31   NL  WarehouseNL1  312160      30  100068       2  SKU71623      1   \n",
       "1    31   NL  WarehouseNL1  334000      33  100076       0  SKU45337      1   \n",
       "2    31   NL  WarehouseNL1  32A600      33  100132       0  SKU41144      2   \n",
       "3    31   NL  WarehouseNL1  32A600      33  100132       0  SKU41145      1   \n",
       "4    31   NL  WarehouseNL1  32A600      33  100132       0  SKU41151      1   \n",
       "\n",
       "  DOSUM DOORIG DODTYP  DODYMD   DOSVAL DOCURC DOCUST    VALUE €  \n",
       "0    EA    NaN    NaN  220411   0.0075     EU    NaN   0.006919  \n",
       "1    PR    NaN    NaN  220113  16.3875     EU    NaN  15.117469  \n",
       "2    EA  OASIS      Y  220304  24.1425     EU    NaN  22.271456  \n",
       "3    EA  OASIS      Y  220304  12.0750     EU    NaN  11.139188  \n",
       "4    EA  OASIS      Y  220304  12.0750     EU    NaN  11.139188  "
      ]
     },
     "execution_count": 17,
     "metadata": {},
     "output_type": "execute_result"
    }
   ],
   "source": [
    "# check top 5 rows\n",
    "soa.head()"
   ]
  },
  {
   "cell_type": "code",
   "execution_count": 18,
   "id": "2e0c8ea7",
   "metadata": {},
   "outputs": [],
   "source": [
    "# Collect the names of the numerical id columns to exclude from analysis\n",
    "# (this is a step that only has to be done once)\n",
    "id_columns = [\"DOMU\",\"DOSTMU\",\"DOORD#\",\"DODYMD\"]"
   ]
  },
  {
   "cell_type": "code",
   "execution_count": 20,
   "id": "6eb9797f",
   "metadata": {},
   "outputs": [
    {
     "name": "stdout",
     "output_type": "stream",
     "text": [
      "Amount of duplicates: 63577\n",
      "duplicate rows have been removed from dataframe\n"
     ]
    }
   ],
   "source": [
    "# Check and remove duplicates\n",
    "soa_no_duplicates = check_and_remove_duplicates(soa)"
   ]
  },
  {
   "cell_type": "code",
   "execution_count": 21,
   "id": "5a29d47b",
   "metadata": {
    "scrolled": true
   },
   "outputs": [
    {
     "data": {
      "text/html": [
       "\n",
       "    <html>\n",
       "    <head>\n",
       "        <style>\n",
       "            table {\n",
       "                border-collapse: collapse;\n",
       "                width: 100%;\n",
       "            }\n",
       "            th, td {\n",
       "                border: 1px solid #dddddd;\n",
       "                text-align: left;\n",
       "                padding: 8px;\n",
       "            }\n",
       "            th {\n",
       "                background-color: #f2f2f2;\n",
       "            }\n",
       "        </style>\n",
       "    </head>\n",
       "    <body>\n",
       "    <h2>Step 0: Numerical ID Columns</h2><ul><li>DOMU</li><li>DOSTMU</li><li>DOORD#</li><li>DODYMD</li></ul><h2>Step 1: Share of Negative Values in Numerical Columns (excluding ID columns)</h2><ul><li>DOSUFX: 0.00%</li><li>DOQTY: 2.80%</li><li>DOSVAL: 2.56%</li><li>VALUE €: 2.56%</li></ul><h2>Step 2: Report for Text and ID Columns</h2><h3>DOMU</h3><p>Blanks Percentage: 0.00%</p><p>Unique Values Count: 2</p><p>Top 10 Values with Percentage:</p><table><tr><th>Value</th><th>Percentage</th></tr><tr><td>44</td><td>59.57%</td></tr><tr><td>31</td><td>40.43%</td></tr></table><h3>DOWH</h3><p>Blanks Percentage: 0.00%</p><p>Unique Values Count: 23</p><p>Top 10 Values with Percentage:</p><table><tr><th>Value</th><th>Percentage</th></tr><tr><td>NL</td><td>40.36%</td></tr><tr><td>UK</td><td>39.91%</td></tr><tr><td>RC</td><td>7.00%</td></tr><tr><td>DV</td><td>3.01%</td></tr><tr><td>LG</td><td>2.44%</td></tr><tr><td>QM</td><td>1.58%</td></tr><tr><td>UA</td><td>1.31%</td></tr><tr><td>80</td><td>0.80%</td></tr><tr><td>S</td><td>0.79%</td></tr><tr><td>AP</td><td>0.62%</td></tr></table><h3>DOWHD</h3><p>Blanks Percentage: 0.10%</p><p>Unique Values Count: 21</p><p>Top 10 Values with Percentage:</p><table><tr><th>Value</th><th>Percentage</th></tr><tr><td>WarehouseNL1</td><td>40.36%</td></tr><tr><td>Warehouse GB MAIN</td><td>39.91%</td></tr><tr><td>RAW MATERIALs-</td><td>7.00%</td></tr><tr><td>DTC Warehouse GB</td><td>3.01%</td></tr><tr><td>Customization warehouse GB1</td><td>2.44%</td></tr><tr><td>Customization warehouse GB2</td><td>1.58%</td></tr><tr><td>DTC offsite warehouse GB3</td><td>1.31%</td></tr><tr><td>European League Warehouse GB 2</td><td>0.80%</td></tr><tr><td>Warehouse GB samples</td><td>0.79%</td></tr><tr><td>Off site customization GB</td><td>0.62%</td></tr></table><h3>DOSTKY</h3><p>Blanks Percentage: 0.10%</p><p>Unique Values Count: 6589</p><p>Top 10 Values with Percentage:</p><table><tr><th>Value</th><th>Percentage</th></tr><tr><td>44DTC0</td><td>1.76%</td></tr><tr><td>06377B</td><td>0.97%</td></tr><tr><td>44DTC1</td><td>0.91%</td></tr><tr><td>021260</td><td>0.68%</td></tr><tr><td>021928</td><td>0.62%</td></tr><tr><td>49DTC0</td><td>0.60%</td></tr><tr><td>056984</td><td>0.53%</td></tr><tr><td>082000</td><td>0.51%</td></tr><tr><td>02595A</td><td>0.50%</td></tr><tr><td>543254</td><td>0.50%</td></tr></table><h3>DOSTMU</h3><p>Blanks Percentage: 0.00%</p><p>Unique Values Count: 14</p><p>Top 10 Values with Percentage:</p><table><tr><th>Value</th><th>Percentage</th></tr><tr><td>44</td><td>46.81%</td></tr><tr><td>33</td><td>12.65%</td></tr><tr><td>49</td><td>11.42%</td></tr><tr><td>46</td><td>7.76%</td></tr><tr><td>34</td><td>5.12%</td></tr><tr><td>35</td><td>4.54%</td></tr><tr><td>30</td><td>3.42%</td></tr><tr><td>45</td><td>2.14%</td></tr><tr><td>58</td><td>1.91%</td></tr><tr><td>39</td><td>1.23%</td></tr></table><h3>DOORD#</h3><p>Blanks Percentage: 0.00%</p><p>Unique Values Count: 423699</p><p>Top 10 Values with Percentage:</p><table><tr><th>Value</th><th>Percentage</th></tr><tr><td>116232</td><td>0.04%</td></tr><tr><td>158401</td><td>0.03%</td></tr><tr><td>159748</td><td>0.03%</td></tr><tr><td>225225</td><td>0.03%</td></tr><tr><td>116234</td><td>0.03%</td></tr><tr><td>158069</td><td>0.03%</td></tr><tr><td>159751</td><td>0.03%</td></tr><tr><td>191162</td><td>0.03%</td></tr><tr><td>119948</td><td>0.03%</td></tr><tr><td>146559</td><td>0.03%</td></tr></table><h3>DOPART</h3><p>Blanks Percentage: 0.00%</p><p>Unique Values Count: 17751</p><p>Top 10 Values with Percentage:</p><table><tr><th>Value</th><th>Percentage</th></tr><tr><td>SKU39997</td><td>0.94%</td></tr><tr><td>SKU74465</td><td>0.69%</td></tr><tr><td>SKU74353</td><td>0.51%</td></tr><tr><td>SKU75488</td><td>0.50%</td></tr><tr><td>SKU24710</td><td>0.46%</td></tr><tr><td>SKU24911</td><td>0.42%</td></tr><tr><td>SKU24644</td><td>0.35%</td></tr><tr><td>SKU24881</td><td>0.33%</td></tr><tr><td>SKU30777</td><td>0.33%</td></tr><tr><td>SKU76792</td><td>0.32%</td></tr></table><h3>DOSUM</h3><p>Blanks Percentage: 0.00%</p><p>Unique Values Count: 8</p><p>Top 10 Values with Percentage:</p><table><tr><th>Value</th><th>Percentage</th></tr><tr><td>EA</td><td>54.02%</td></tr><tr><td>PR</td><td>30.24%</td></tr><tr><td>DZ</td><td>7.92%</td></tr><tr><td>SIX</td><td>4.45%</td></tr><tr><td>PK</td><td>3.05%</td></tr><tr><td>ST</td><td>0.30%</td></tr><tr><td>BX</td><td>0.03%</td></tr><tr><td>SET</td><td>0.00%</td></tr></table><h3>DOORIG</h3><p>Blanks Percentage: 27.99%</p><p>Unique Values Count: 6</p><p>Top 10 Values with Percentage:</p><table><tr><th>Value</th><th>Percentage</th></tr><tr><td>OASIS</td><td>50.51%</td></tr><tr><td>B2B</td><td>11.19%</td></tr><tr><td>SHEET</td><td>5.84%</td></tr><tr><td>DTC</td><td>2.77%</td></tr><tr><td>EDI</td><td>1.60%</td></tr><tr><td>XM</td><td>0.10%</td></tr></table><h3>DODTYP</h3><p>Blanks Percentage: 55.13%</p><p>Unique Values Count: 15</p><p>Top 10 Values with Percentage:</p><table><tr><th>Value</th><th>Percentage</th></tr><tr><td>Y</td><td>36.69%</td></tr><tr><td>S</td><td>2.42%</td></tr><tr><td>G</td><td>1.52%</td></tr><tr><td>3</td><td>1.48%</td></tr><tr><td>L</td><td>0.77%</td></tr><tr><td>B</td><td>0.51%</td></tr><tr><td>P</td><td>0.48%</td></tr><tr><td>2</td><td>0.40%</td></tr><tr><td>A</td><td>0.29%</td></tr><tr><td>K</td><td>0.20%</td></tr></table><h3>DODYMD</h3><p>Blanks Percentage: 0.00%</p><p>Unique Values Count: 295</p><p>Top 10 Values with Percentage:</p><table><tr><th>Value</th><th>Percentage</th></tr><tr><td>220210</td><td>1.05%</td></tr><tr><td>220104</td><td>0.99%</td></tr><tr><td>220310</td><td>0.93%</td></tr><tr><td>220321</td><td>0.88%</td></tr><tr><td>220308</td><td>0.87%</td></tr><tr><td>220309</td><td>0.87%</td></tr><tr><td>220314</td><td>0.85%</td></tr><tr><td>220307</td><td>0.85%</td></tr><tr><td>220228</td><td>0.84%</td></tr><tr><td>220311</td><td>0.83%</td></tr></table><h3>DOCURC</h3><p>Blanks Percentage: 0.00%</p><p>Unique Values Count: 7</p><p>Top 10 Values with Percentage:</p><table><tr><th>Value</th><th>Percentage</th></tr><tr><td>£</td><td>45.27%</td></tr><tr><td>EU</td><td>41.94%</td></tr><tr><td>SK</td><td>8.00%</td></tr><tr><td>DK</td><td>2.21%</td></tr><tr><td>NK</td><td>1.11%</td></tr><tr><td>$</td><td>1.03%</td></tr><tr><td>R</td><td>0.43%</td></tr></table><h3>DOCUST</h3><p>Blanks Percentage: 87.89%</p><p>Unique Values Count: 1</p><p>Top 10 Values with Percentage:</p><table><tr><th>Value</th><th>Percentage</th></tr><tr><td>Y</td><td>12.11%</td></tr></table><h2>Step 3: Report for Numerical Columns</h2><table><tr><th>Column Name</th><th>Blanks Percentage</th><th>Minimum Value</th><th>Average Value</th><th>Median Value</th><th>Maximum Value</th></tr><tr><td>DOSUFX</td><td>0.00%</td><td>0</td><td>0.2964261346257911</td><td>0.0</td><td>44</td></tr><tr><td>DOQTY</td><td>0.00%</td><td>-2268</td><td>4.933492799201102</td><td>1.0</td><td>6048</td></tr><tr><td>DOSVAL</td><td>0.00%</td><td>-19465.5</td><td>82.72589270561296</td><td>37.837500000000006</td><td>103375.44</td></tr><tr><td>VALUE €</td><td>0.00%</td><td>-17956.923749999998</td><td>76.31463602092794</td><td>34.905093750000006</td><td>95363.8434</td></tr></table>\n",
       "    </body>\n",
       "    </html>\n",
       "    "
      ],
      "text/plain": [
       "<IPython.core.display.HTML object>"
      ]
     },
     "metadata": {},
     "output_type": "display_data"
    },
    {
     "data": {
      "image/png": "[encoded data removed]",
      "text/plain": [
       "<Figure size 1000x600 with 1 Axes>"
      ]
     },
     "metadata": {},
     "output_type": "display_data"
    },
    {
     "data": {
      "image/png": "[encoded data removed]",
      "text/plain": [
       "<Figure size 1000x600 with 1 Axes>"
      ]
     },
     "metadata": {},
     "output_type": "display_data"
    },
    {
     "data": {
      "image/png": "[encoded data removed]",
      "text/plain": [
       "<Figure size 1000x600 with 1 Axes>"
      ]
     },
     "metadata": {},
     "output_type": "display_data"
    },
    {
     "data": {
      "image/png": "[encoded data removed]",
      "text/plain": [
       "<Figure size 1000x600 with 1 Axes>"
      ]
     },
     "metadata": {},
     "output_type": "display_data"
    },
    {
     "data": {
      "text/plain": [
       "<IPython.core.display.HTML object>"
      ]
     },
     "metadata": {},
     "output_type": "display_data"
    }
   ],
   "source": [
    "# INTEGRITY CHECK FOR SOA\n",
    "\n",
    "# Perform integrity check\n",
    "negative_share, report_text_id, report_numerical = integrity_check(id_columns, soa_no_duplicates)\n",
    "\n",
    "# Generate HTML report\n",
    "html_report = generate_html_report(id_columns, negative_share, report_text_id, report_numerical)\n",
    "\n",
    "# Display the HTML report in Jupyter Notebook\n",
    "display(HTML(html_report))\n",
    "\n",
    "# Generate and display the plots\n",
    "html_plots = generate_plots(soa_no_duplicates,id_columns)\n",
    "display(HTML(html_plots))"
   ]
  },
  {
   "cell_type": "markdown",
   "id": "4ef7b646",
   "metadata": {},
   "source": [
    "# Integrity Check: Parcel File"
   ]
  },
  {
   "cell_type": "code",
   "execution_count": 22,
   "id": "d8191ca6",
   "metadata": {},
   "outputs": [
    {
     "data": {
      "text/html": [
       "<div>\n",
       "<style scoped>\n",
       "    .dataframe tbody tr th:only-of-type {\n",
       "        vertical-align: middle;\n",
       "    }\n",
       "\n",
       "    .dataframe tbody tr th {\n",
       "        vertical-align: top;\n",
       "    }\n",
       "\n",
       "    .dataframe thead th {\n",
       "        text-align: right;\n",
       "    }\n",
       "</style>\n",
       "<table border=\"1\" class=\"dataframe\">\n",
       "  <thead>\n",
       "    <tr style=\"text-align: right;\">\n",
       "      <th></th>\n",
       "      <th>DAMU</th>\n",
       "      <th>DAORD#</th>\n",
       "      <th>DASUFX</th>\n",
       "      <th>DACARR</th>\n",
       "      <th>DAPARN</th>\n",
       "      <th>DACTRY</th>\n",
       "      <th>DAFRTT</th>\n",
       "      <th>DASERC</th>\n",
       "      <th>DASERD</th>\n",
       "    </tr>\n",
       "  </thead>\n",
       "  <tbody>\n",
       "    <tr>\n",
       "      <th>0</th>\n",
       "      <td>31</td>\n",
       "      <td>106457</td>\n",
       "      <td>2</td>\n",
       "      <td>NLD</td>\n",
       "      <td>5228916320361</td>\n",
       "      <td>FR</td>\n",
       "      <td>XWK</td>\n",
       "      <td>101.0</td>\n",
       "      <td>NaN</td>\n",
       "    </tr>\n",
       "    <tr>\n",
       "      <th>1</th>\n",
       "      <td>31</td>\n",
       "      <td>106457</td>\n",
       "      <td>2</td>\n",
       "      <td>NLD</td>\n",
       "      <td>5228916320361</td>\n",
       "      <td>FR</td>\n",
       "      <td>XWK</td>\n",
       "      <td>101.0</td>\n",
       "      <td>NaN</td>\n",
       "    </tr>\n",
       "    <tr>\n",
       "      <th>2</th>\n",
       "      <td>31</td>\n",
       "      <td>106457</td>\n",
       "      <td>2</td>\n",
       "      <td>NLD</td>\n",
       "      <td>5228916320361</td>\n",
       "      <td>FR</td>\n",
       "      <td>XWK</td>\n",
       "      <td>101.0</td>\n",
       "      <td>NaN</td>\n",
       "    </tr>\n",
       "    <tr>\n",
       "      <th>3</th>\n",
       "      <td>31</td>\n",
       "      <td>112788</td>\n",
       "      <td>1</td>\n",
       "      <td>NLD</td>\n",
       "      <td>5228916309387</td>\n",
       "      <td>FR</td>\n",
       "      <td>XWK</td>\n",
       "      <td>101.0</td>\n",
       "      <td>NaN</td>\n",
       "    </tr>\n",
       "    <tr>\n",
       "      <th>4</th>\n",
       "      <td>31</td>\n",
       "      <td>112788</td>\n",
       "      <td>1</td>\n",
       "      <td>NLD</td>\n",
       "      <td>5228916309387</td>\n",
       "      <td>FR</td>\n",
       "      <td>XWK</td>\n",
       "      <td>101.0</td>\n",
       "      <td>NaN</td>\n",
       "    </tr>\n",
       "  </tbody>\n",
       "</table>\n",
       "</div>"
      ],
      "text/plain": [
       "   DAMU  DAORD#  DASUFX DACARR         DAPARN DACTRY DAFRTT  DASERC DASERD\n",
       "0    31  106457       2    NLD  5228916320361     FR    XWK   101.0    NaN\n",
       "1    31  106457       2    NLD  5228916320361     FR    XWK   101.0    NaN\n",
       "2    31  106457       2    NLD  5228916320361     FR    XWK   101.0    NaN\n",
       "3    31  112788       1    NLD  5228916309387     FR    XWK   101.0    NaN\n",
       "4    31  112788       1    NLD  5228916309387     FR    XWK   101.0    NaN"
      ]
     },
     "execution_count": 22,
     "metadata": {},
     "output_type": "execute_result"
    }
   ],
   "source": [
    "# check top 5 rows\n",
    "pf.head()"
   ]
  },
  {
   "cell_type": "code",
   "execution_count": 23,
   "id": "b5eef652",
   "metadata": {},
   "outputs": [],
   "source": [
    "# Collect the names of the numerical id columns to exclude from analysis\n",
    "# (this is a step that only has to be done once)\n",
    "id_columns = [\"DAMU\",\"DAORD#\",\"DASUFX\",\"DAPARN\",\"DASERC\"] "
   ]
  },
  {
   "cell_type": "code",
   "execution_count": 24,
   "id": "402a8ebb",
   "metadata": {},
   "outputs": [
    {
     "name": "stdout",
     "output_type": "stream",
     "text": [
      "Amount of duplicates: 375712\n",
      "duplicate rows have been removed from dataframe\n"
     ]
    }
   ],
   "source": [
    "pf_no_duplicates = check_and_remove_duplicates(pf)"
   ]
  },
  {
   "cell_type": "code",
   "execution_count": 25,
   "id": "6c84bd63",
   "metadata": {
    "scrolled": false
   },
   "outputs": [
    {
     "data": {
      "text/html": [
       "\n",
       "    <html>\n",
       "    <head>\n",
       "        <style>\n",
       "            table {\n",
       "                border-collapse: collapse;\n",
       "                width: 100%;\n",
       "            }\n",
       "            th, td {\n",
       "                border: 1px solid #dddddd;\n",
       "                text-align: left;\n",
       "                padding: 8px;\n",
       "            }\n",
       "            th {\n",
       "                background-color: #f2f2f2;\n",
       "            }\n",
       "        </style>\n",
       "    </head>\n",
       "    <body>\n",
       "    <h2>Step 0: Numerical ID Columns</h2><ul><li>DAMU</li><li>DAORD#</li><li>DASUFX</li><li>DAPARN</li><li>DASERC</li></ul><h2>Step 1: Share of Negative Values in Numerical Columns (excluding ID columns)</h2><p>No negative values found.</p><h2>Step 2: Report for Text and ID Columns</h2><h3>DAMU</h3><p>Blanks Percentage: 0.00%</p><p>Unique Values Count: 2</p><p>Top 10 Values with Percentage:</p><table><tr><th>Value</th><th>Percentage</th></tr><tr><td>44</td><td>96.79%</td></tr><tr><td>31</td><td>3.21%</td></tr></table><h3>DAORD#</h3><p>Blanks Percentage: 0.00%</p><p>Unique Values Count: 286853</p><p>Top 10 Values with Percentage:</p><table><tr><th>Value</th><th>Percentage</th></tr><tr><td>0</td><td>0.83%</td></tr><tr><td>559377</td><td>0.03%</td></tr><tr><td>966840</td><td>0.03%</td></tr><tr><td>416159</td><td>0.02%</td></tr><tr><td>393573</td><td>0.02%</td></tr><tr><td>601198</td><td>0.02%</td></tr><tr><td>448230</td><td>0.02%</td></tr><tr><td>529169</td><td>0.02%</td></tr><tr><td>449839</td><td>0.02%</td></tr><tr><td>692667</td><td>0.02%</td></tr></table><h3>DASUFX</h3><p>Blanks Percentage: 0.00%</p><p>Unique Values Count: 34</p><p>Top 10 Values with Percentage:</p><table><tr><th>Value</th><th>Percentage</th></tr><tr><td>0</td><td>88.59%</td></tr><tr><td>1</td><td>6.98%</td></tr><tr><td>2</td><td>2.20%</td></tr><tr><td>3</td><td>0.88%</td></tr><tr><td>4</td><td>0.49%</td></tr><tr><td>5</td><td>0.28%</td></tr><tr><td>6</td><td>0.18%</td></tr><tr><td>7</td><td>0.16%</td></tr><tr><td>9</td><td>0.06%</td></tr><tr><td>8</td><td>0.06%</td></tr></table><h3>DACARR</h3><p>Blanks Percentage: 0.00%</p><p>Unique Values Count: 3</p><p>Top 10 Values with Percentage:</p><table><tr><th>Value</th><th>Percentage</th></tr><tr><td>UKD</td><td>68.99%</td></tr><tr><td>NLD</td><td>21.29%</td></tr><tr><td>DTC</td><td>9.72%</td></tr></table><h3>DAPARN</h3><p>Blanks Percentage: 0.00%</p><p>Unique Values Count: 345434</p><p>Top 10 Values with Percentage:</p><table><tr><th>Value</th><th>Percentage</th></tr><tr><td>5228916445205</td><td>0.00%</td></tr><tr><td>5228916431382</td><td>0.00%</td></tr><tr><td>5228916431088</td><td>0.00%</td></tr><tr><td>5228916431089</td><td>0.00%</td></tr><tr><td>5228916431432</td><td>0.00%</td></tr><tr><td>5228916431218</td><td>0.00%</td></tr><tr><td>5228916431246</td><td>0.00%</td></tr><tr><td>15502798888878</td><td>0.00%</td></tr><tr><td>15502798883315</td><td>0.00%</td></tr><tr><td>15502798199585</td><td>0.00%</td></tr></table><h3>DACTRY</h3><p>Blanks Percentage: 0.00%</p><p>Unique Values Count: 29</p><p>Top 10 Values with Percentage:</p><table><tr><th>Value</th><th>Percentage</th></tr><tr><td>GB</td><td>67.90%</td></tr><tr><td>IE</td><td>6.62%</td></tr><tr><td>DE</td><td>6.00%</td></tr><tr><td>FR</td><td>5.00%</td></tr><tr><td>SE</td><td>4.75%</td></tr><tr><td>NL</td><td>1.81%</td></tr><tr><td>ES</td><td>1.66%</td></tr><tr><td>DK</td><td>1.15%</td></tr><tr><td>CH</td><td>1.11%</td></tr><tr><td>FI</td><td>0.77%</td></tr></table><h3>DAFRTT</h3><p>Blanks Percentage: 0.84%</p><p>Unique Values Count: 26</p><p>Top 10 Values with Percentage:</p><table><tr><th>Value</th><th>Percentage</th></tr><tr><td>STN</td><td>40.92%</td></tr><tr><td>XWK</td><td>29.97%</td></tr><tr><td>CUS</td><td>13.30%</td></tr><tr><td>B2B</td><td>11.53%</td></tr><tr><td>N</td><td>2.83%</td></tr><tr><td>NOO</td><td>0.23%</td></tr><tr><td>CMS</td><td>0.11%</td></tr><tr><td>DLD</td><td>0.07%</td></tr><tr><td>DIA</td><td>0.06%</td></tr><tr><td>F0</td><td>0.04%</td></tr></table><h3>DASERC</h3><p>Blanks Percentage: 9.72%</p><p>Unique Values Count: 8</p><p>Top 10 Values with Percentage:</p><table><tr><th>Value</th><th>Percentage</th></tr><tr><td>12.0</td><td>58.14%</td></tr><tr><td>101.0</td><td>21.29%</td></tr><tr><td>11.0</td><td>9.54%</td></tr><tr><td>19.0</td><td>0.65%</td></tr><tr><td>13.0</td><td>0.54%</td></tr><tr><td>14.0</td><td>0.07%</td></tr><tr><td>16.0</td><td>0.05%</td></tr><tr><td>155.0</td><td>0.00%</td></tr></table><h3>DASERD</h3><p>Blanks Percentage: 99.96%</p><p>Unique Values Count: 2</p><p>Top 10 Values with Percentage:</p><table><tr><th>Value</th><th>Percentage</th></tr><tr><td>           HELMOND</td><td>0.02%</td></tr><tr><td>uage description transla</td><td>0.02%</td></tr></table><h2>Step 3: Report for Numerical Columns</h2><table><tr><th>Column Name</th><th>Blanks Percentage</th><th>Minimum Value</th><th>Average Value</th><th>Median Value</th><th>Maximum Value</th></tr></table>\n",
       "    </body>\n",
       "    </html>\n",
       "    "
      ],
      "text/plain": [
       "<IPython.core.display.HTML object>"
      ]
     },
     "metadata": {},
     "output_type": "display_data"
    },
    {
     "data": {
      "text/plain": [
       "<IPython.core.display.HTML object>"
      ]
     },
     "metadata": {},
     "output_type": "display_data"
    }
   ],
   "source": [
    "# INTEGRITY CHECK FOR SAO\n",
    "\n",
    "# Perform integrity check\n",
    "negative_share, report_text_id, report_numerical = integrity_check(id_columns, pf_no_duplicates)\n",
    "\n",
    "# Generate HTML report\n",
    "html_report = generate_html_report(id_columns, negative_share, report_text_id, report_numerical)\n",
    "\n",
    "# Display the HTML report in Jupyter Notebook\n",
    "display(HTML(html_report))\n",
    "\n",
    "# Generate and display the plots\n",
    "html_plots = generate_plots(pf_no_duplicates,id_columns)\n",
    "display(HTML(html_plots))"
   ]
  },
  {
   "cell_type": "code",
   "execution_count": null,
   "id": "4e4a2c0a",
   "metadata": {},
   "outputs": [],
   "source": []
  }
 ],
 "metadata": {
  "kernelspec": {
   "display_name": "Python 3 (ipykernel)",
   "language": "python",
   "name": "python3"
  },
  "language_info": {
   "codemirror_mode": {
    "name": "ipython",
    "version": 3
   },
   "file_extension": ".py",
   "mimetype": "text/x-python",
   "name": "python",
   "nbconvert_exporter": "python",
   "pygments_lexer": "ipython3",
   "version": "3.10.9"
  }
 },
 "nbformat": 4,
 "nbformat_minor": 5
}
